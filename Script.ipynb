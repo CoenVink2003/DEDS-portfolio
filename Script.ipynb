{
 "cells": [
  {
   "metadata": {
    "ExecuteTime": {
     "end_time": "2025-02-10T15:14:58.180487Z",
     "start_time": "2025-02-10T15:14:58.176182Z"
    }
   },
   "cell_type": "code",
   "source": "print('hello world!')",
   "id": "c744a7bab7f6ca34",
   "outputs": [
    {
     "name": "stdout",
     "output_type": "stream",
     "text": [
      "hello world!\n"
     ]
    }
   ],
   "execution_count": 5
  },
  {
   "metadata": {
    "ExecuteTime": {
     "end_time": "2025-02-10T15:14:57.571257Z",
     "start_time": "2025-02-10T15:14:57.568002Z"
    }
   },
   "cell_type": "code",
   "source": "",
   "id": "bc4e6e4acd7cff54",
   "outputs": [],
   "execution_count": null
  },
  {
   "metadata": {},
   "cell_type": "code",
   "outputs": [],
   "execution_count": null,
   "source": "",
   "id": "bf9b2220269f046b"
  },
  {
   "metadata": {},
   "cell_type": "code",
   "outputs": [],
   "execution_count": null,
   "source": "",
   "id": "ef6f85f349c6e079"
  }
 ],
 "metadata": {
  "kernelspec": {
   "name": "python3",
   "language": "python",
   "display_name": "Python 3 (ipykernel)"
  }
 },
 "nbformat": 5,
 "nbformat_minor": 9
}
