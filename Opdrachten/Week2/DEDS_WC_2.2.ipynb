{
 "cells": [
  {
   "metadata": {},
   "cell_type": "markdown",
   "source": "# Oude tabellen ophalen\n",
   "id": "1680df2be31efdf5"
  },
  {
   "metadata": {
    "ExecuteTime": {
     "end_time": "2025-02-20T11:29:33.296431Z",
     "start_time": "2025-02-20T11:29:30.188847Z"
    }
   },
   "cell_type": "code",
   "source": [
    "import sqlite3\n",
    "import pandas as pd\n",
    "import pyodbc\n",
    "\n",
    "current_db_go_crm_train = sqlite3.connect(\"go_crm_train.sqlite\")\n",
    "current_db_go_sales_train = sqlite3.connect(\"go_sales_train.sqlite\")\n",
    "current_db_go_staff_train = sqlite3.connect(\"go_staff_train.sqlite\")\n",
    "\n",
    "crm_train_data = {}\n",
    "crm_train_data['age_group'] = pd.read_sql_query(\"SELECT * FROM age_group\", current_db_go_crm_train)\n",
    "crm_train_data['country'] = pd.read_sql_query(\"SELECT * FROM country\", current_db_go_crm_train)\n",
    "crm_train_data['retailer'] = pd.read_sql_query(\"SELECT * FROM retailer\", current_db_go_crm_train)\n",
    "crm_train_data['retailer_contact'] = pd.read_sql_query(\"SELECT * FROM retailer_contact\", current_db_go_crm_train)\n",
    "crm_train_data['retailer_headquarters'] = pd.read_sql_query(\"SELECT * FROM retailer_headquarters\", current_db_go_crm_train)\n",
    "crm_train_data['retailer_segment'] = pd.read_sql_query(\"SELECT * FROM retailer_segment\", current_db_go_crm_train)\n",
    "crm_train_data['retailer_site'] = pd.read_sql_query(\"SELECT * FROM retailer_site\", current_db_go_crm_train)\n",
    "crm_train_data['retailer_type'] = pd.read_sql_query(\"SELECT * FROM retailer_type\", current_db_go_crm_train)\n",
    "crm_train_data['sales_demographic'] = pd.read_sql_query(\"SELECT * FROM sales_demographic\", current_db_go_crm_train)\n",
    "crm_train_data['sales_territory'] = pd.read_sql_query(\"SELECT * FROM sales_territory\", current_db_go_crm_train)\n",
    "\n",
    "sales_train_data = {}\n",
    "\n",
    "sales_train_data['retailer_site'] = pd.read_sql_query(\"SELECT * FROM retailer_site\", current_db_go_sales_train)\n",
    "sales_train_data['country'] = pd.read_sql_query(\"SELECT * FROM country\", current_db_go_sales_train)\n",
    "sales_train_data['sales_branch'] = pd.read_sql_query(\"SELECT * FROM sales_branch\", current_db_go_sales_train)\n",
    "sales_train_data['sales_staff'] = pd.read_sql_query(\"SELECT * FROM sales_staff\", current_db_go_sales_train)\n",
    "sales_train_data['product_line'] = pd.read_sql_query(\"SELECT * FROM product_line\", current_db_go_sales_train)\n",
    "sales_train_data['product_type'] = pd.read_sql_query(\"SELECT * FROM product_type\", current_db_go_sales_train)\n",
    "sales_train_data['order_method'] = pd.read_sql_query(\"SELECT * FROM order_method\", current_db_go_sales_train)\n",
    "sales_train_data['order_header'] = pd.read_sql_query(\"SELECT * FROM order_header\", current_db_go_sales_train)\n",
    "sales_train_data['product'] = pd.read_sql_query(\"SELECT * FROM product\", current_db_go_sales_train)\n",
    "sales_train_data['order_details'] = pd.read_sql_query(\"SELECT * FROM order_details\", current_db_go_sales_train)\n",
    "sales_train_data['return_reason'] = pd.read_sql_query(\"SELECT * FROM return_reason\", current_db_go_sales_train)\n",
    "sales_train_data['returned_item'] = pd.read_sql_query(\"SELECT * FROM returned_item\", current_db_go_sales_train)\n",
    "\n",
    "\n",
    "go_staff_train_data = {}\n",
    "go_staff_train_data['course'] = pd.read_sql_query(\"SELECT * FROM course\", current_db_go_staff_train)\n",
    "go_staff_train_data['sales_branch'] = pd.read_sql_query(\"SELECT * FROM sales_branch\", current_db_go_staff_train)\n",
    "go_staff_train_data['sales_staff'] = pd.read_sql_query(\"SELECT * FROM sales_staff\", current_db_go_staff_train)\n",
    "go_staff_train_data['satisfaction'] = pd.read_sql_query(\"SELECT * FROM satisfaction\", current_db_go_staff_train)\n",
    "go_staff_train_data['satisfaction_type'] = pd.read_sql_query(\"SELECT * FROM satisfaction_type\", current_db_go_staff_train)\n",
    "go_staff_train_data['training'] = pd.read_sql_query(\"SELECT * FROM training\", current_db_go_staff_train)\n",
    "\n",
    "# Close the database connections\n",
    "current_db_go_crm_train.close()\n",
    "current_db_go_sales_train.close()\n",
    "current_db_go_staff_train.close()"
   ],
   "id": "85f4e1f60a018aa9",
   "outputs": [],
   "execution_count": 1
  },
  {
   "metadata": {},
   "cell_type": "markdown",
   "source": "# Verbinding maken met elke database",
   "id": "e2e09842821d194"
  },
  {
   "metadata": {
    "ExecuteTime": {
     "end_time": "2025-02-20T11:29:34.271833Z",
     "start_time": "2025-02-20T11:29:33.993592Z"
    }
   },
   "cell_type": "code",
   "source": [
    "import pyodbc\n",
    "\n",
    "go_crm_train = {'servername': r'COEN_LAPTOP\\SQLEXPRESS', 'database': 'go_crm_train'}\n",
    "go_sales_train = {'servername': r'COEN_LAPTOP\\SQLEXPRESS', 'database': 'go_sales_train'}\n",
    "go_staff_train = {'servername': r'COEN_LAPTOP\\SQLEXPRESS', 'database': 'go_staff_train'}\n",
    "\n",
    "go_crm_train_connection = pyodbc.connect('DRIVER={SQL Server}; SERVER=' + go_crm_train['servername'] + '; DATABASE=' + go_crm_train['database'] + '; Trusted_Connection=yes')\n",
    "go_sales_train_connection = pyodbc.connect('DRIVER={SQL Server}; SERVER=' + go_sales_train['servername'] + '; DATABASE=' + go_sales_train['database'] + '; Trusted_Connection=yes')\n",
    "go_staff_train_connection = pyodbc.connect('DRIVER={SQL Server}; SERVER=' + go_staff_train['servername'] + '; DATABASE=' + go_staff_train['database'] + '; Trusted_Connection=yes')\n",
    "\n",
    "go_sales_train_cursor = go_sales_train_connection.cursor()\n",
    "go_crm_train_cursor = go_crm_train_connection.cursor()\n",
    "go_staff_train_cursor = go_staff_train_connection.cursor()\n"
   ],
   "id": "92adab88519d7735",
   "outputs": [],
   "execution_count": 2
  },
  {
   "metadata": {},
   "cell_type": "markdown",
   "source": "# Data verwijderen\n",
   "id": "8aa2f5e156855e18"
  },
  {
   "metadata": {},
   "cell_type": "code",
   "outputs": [],
   "execution_count": null,
   "source": [
    "for tableIndex, table in enumerate(crm_train_data):\n",
    "    try:\n",
    "        query = f\"DELETE FROM {table}\"\n",
    "        go_crm_train_cursor.execute(query)\n",
    "    except pyodbc.Error as e:\n",
    "        print(e)\n",
    "#"
   ],
   "id": "3562c21275016844"
  },
  {
   "metadata": {},
   "cell_type": "markdown",
   "source": "# Data van CRM in de nieuwe database zetten\n",
   "id": "e92f063cd984981"
  },
  {
   "metadata": {
    "ExecuteTime": {
     "end_time": "2025-02-20T11:29:42.080849Z",
     "start_time": "2025-02-20T11:29:38.167039Z"
    }
   },
   "cell_type": "code",
   "source": [
    "# for tableIndex, table in enumerate(crm_train_data):\n",
    "#     columns = crm_train_data[table].columns.tolist()  # Extract column names\n",
    "#     for index, row in crm_train_data[table].iterrows():\n",
    "#         values = []\n",
    "#         for column in columns:\n",
    "#             value = row[column]\n",
    "#             if isinstance(value, str) and value.lower() == 'nan':\n",
    "#                 values.append('NULL')\n",
    "#             else:\n",
    "#\n",
    "#                 values.append(f\"'{value}'\" if isinstance(value, str) else str(value))\n",
    "#\n",
    "#         valueString = \", \".join(values)\n",
    "#         columnNames = \", \".join(columns)  # Column names for the INSERT query\n",
    "#\n",
    "#         try:\n",
    "#             query = f\"INSERT INTO {table} ({columnNames}) VALUES ({valueString})\"\n",
    "#             go_crm_train_cursor.execute(query)\n",
    "#         except pyodbc.Error as e:\n",
    "#             print(f\"Error inserting into {table} with query: {query}\")\n",
    "#             print(f\"Error details: {e}\")\n",
    "#\n",
    "# go_crm_train_connection.commit()\n",
    "# go_crm_train_cursor.close()\n",
    "\n",
    "table = str(input(\"Kies de tabel die je wilt uploaden\"))\n",
    "columns = sales_train_data[table].columns.tolist()  # Extract column names\n",
    "for index, row in sales_train_data[table].iterrows():\n",
    "    values = []\n",
    "    for column in columns:\n",
    "        value = row[column]\n",
    "        if pd.isna(value) or (isinstance(value, str) and value.lower() in ['nan', 'none']):\n",
    "            values.append('NULL')  # Replace NaN/None or \"nan\"/\"none\" with NULL\n",
    "        else:\n",
    "            values.append(f\"'{value}'\" if isinstance(value, str) else str(value))\n",
    "\n",
    "    valueString = \", \".join(values)\n",
    "    columnNames = \", \".join(columns)  # Column names for the INSERT query\n",
    "\n",
    "    try:\n",
    "        query = f\"INSERT INTO {table} ({columnNames}) VALUES ({valueString})\"\n",
    "        go_sales_train_cursor.execute(query)\n",
    "    except pyodbc.Error as e:\n",
    "        print(query)\n",
    "        print(e)\n",
    "\n",
    "go_sales_train_cursor.commit()\n",
    "go_sales_train_connection.close()\n",
    "\n"
   ],
   "id": "4e9409ed941471b3",
   "outputs": [
    {
     "name": "stdout",
     "output_type": "stream",
     "text": [
      "INSERT INTO country (COUNTRY_CODE, COUNTRY, LANGUAGE, CURRENCY_NAME) VALUES (1, 'France', 'EN', 'francs')\n",
      "('23000', \"[23000] [Microsoft][ODBC SQL Server Driver][SQL Server]Violation of PRIMARY KEY constraint 'PK__country__FC7F59079346F067'. Cannot insert duplicate key in object 'dbo.country'. The duplicate key value is (1). (2627) (SQLExecDirectW); [23000] [Microsoft][ODBC SQL Server Driver][SQL Server]The statement has been terminated. (3621)\")\n",
      "INSERT INTO country (COUNTRY_CODE, COUNTRY, LANGUAGE, CURRENCY_NAME) VALUES (2, 'Germany', 'EN', 'marks')\n",
      "('23000', \"[23000] [Microsoft][ODBC SQL Server Driver][SQL Server]Violation of PRIMARY KEY constraint 'PK__country__FC7F59079346F067'. Cannot insert duplicate key in object 'dbo.country'. The duplicate key value is (2). (2627) (SQLExecDirectW); [23000] [Microsoft][ODBC SQL Server Driver][SQL Server]The statement has been terminated. (3621)\")\n",
      "INSERT INTO country (COUNTRY_CODE, COUNTRY, LANGUAGE, CURRENCY_NAME) VALUES (3, 'United States', 'EN', 'dollars')\n",
      "('23000', \"[23000] [Microsoft][ODBC SQL Server Driver][SQL Server]Violation of PRIMARY KEY constraint 'PK__country__FC7F59079346F067'. Cannot insert duplicate key in object 'dbo.country'. The duplicate key value is (3). (2627) (SQLExecDirectW); [23000] [Microsoft][ODBC SQL Server Driver][SQL Server]The statement has been terminated. (3621)\")\n",
      "INSERT INTO country (COUNTRY_CODE, COUNTRY, LANGUAGE, CURRENCY_NAME) VALUES (4, 'Canada', 'EN', 'dollars')\n",
      "('23000', \"[23000] [Microsoft][ODBC SQL Server Driver][SQL Server]Violation of PRIMARY KEY constraint 'PK__country__FC7F59079346F067'. Cannot insert duplicate key in object 'dbo.country'. The duplicate key value is (4). (2627) (SQLExecDirectW); [23000] [Microsoft][ODBC SQL Server Driver][SQL Server]The statement has been terminated. (3621)\")\n",
      "INSERT INTO country (COUNTRY_CODE, COUNTRY, LANGUAGE, CURRENCY_NAME) VALUES (5, 'Austria', 'EN', 'schillings')\n",
      "('23000', \"[23000] [Microsoft][ODBC SQL Server Driver][SQL Server]Violation of PRIMARY KEY constraint 'PK__country__FC7F59079346F067'. Cannot insert duplicate key in object 'dbo.country'. The duplicate key value is (5). (2627) (SQLExecDirectW); [23000] [Microsoft][ODBC SQL Server Driver][SQL Server]The statement has been terminated. (3621)\")\n",
      "INSERT INTO country (COUNTRY_CODE, COUNTRY, LANGUAGE, CURRENCY_NAME) VALUES (6, 'Italy', 'EN', 'lira')\n",
      "('23000', \"[23000] [Microsoft][ODBC SQL Server Driver][SQL Server]Violation of PRIMARY KEY constraint 'PK__country__FC7F59079346F067'. Cannot insert duplicate key in object 'dbo.country'. The duplicate key value is (6). (2627) (SQLExecDirectW); [23000] [Microsoft][ODBC SQL Server Driver][SQL Server]The statement has been terminated. (3621)\")\n",
      "INSERT INTO country (COUNTRY_CODE, COUNTRY, LANGUAGE, CURRENCY_NAME) VALUES (7, 'Netherlands', 'EN', 'guilders')\n",
      "('23000', \"[23000] [Microsoft][ODBC SQL Server Driver][SQL Server]Violation of PRIMARY KEY constraint 'PK__country__FC7F59079346F067'. Cannot insert duplicate key in object 'dbo.country'. The duplicate key value is (7). (2627) (SQLExecDirectW); [23000] [Microsoft][ODBC SQL Server Driver][SQL Server]The statement has been terminated. (3621)\")\n",
      "INSERT INTO country (COUNTRY_CODE, COUNTRY, LANGUAGE, CURRENCY_NAME) VALUES (8, 'Switzerland', 'EN', 'francs')\n",
      "('23000', \"[23000] [Microsoft][ODBC SQL Server Driver][SQL Server]Violation of PRIMARY KEY constraint 'PK__country__FC7F59079346F067'. Cannot insert duplicate key in object 'dbo.country'. The duplicate key value is (8). (2627) (SQLExecDirectW); [23000] [Microsoft][ODBC SQL Server Driver][SQL Server]The statement has been terminated. (3621)\")\n",
      "INSERT INTO country (COUNTRY_CODE, COUNTRY, LANGUAGE, CURRENCY_NAME) VALUES (9, 'United Kingdom', 'EN', 'pounds')\n",
      "('23000', \"[23000] [Microsoft][ODBC SQL Server Driver][SQL Server]Violation of PRIMARY KEY constraint 'PK__country__FC7F59079346F067'. Cannot insert duplicate key in object 'dbo.country'. The duplicate key value is (9). (2627) (SQLExecDirectW); [23000] [Microsoft][ODBC SQL Server Driver][SQL Server]The statement has been terminated. (3621)\")\n",
      "INSERT INTO country (COUNTRY_CODE, COUNTRY, LANGUAGE, CURRENCY_NAME) VALUES (10, 'Sweden', 'EN', 'krona')\n",
      "('23000', \"[23000] [Microsoft][ODBC SQL Server Driver][SQL Server]Violation of PRIMARY KEY constraint 'PK__country__FC7F59079346F067'. Cannot insert duplicate key in object 'dbo.country'. The duplicate key value is (10). (2627) (SQLExecDirectW); [23000] [Microsoft][ODBC SQL Server Driver][SQL Server]The statement has been terminated. (3621)\")\n",
      "INSERT INTO country (COUNTRY_CODE, COUNTRY, LANGUAGE, CURRENCY_NAME) VALUES (11, 'Japan', 'EN', 'yen')\n",
      "('23000', \"[23000] [Microsoft][ODBC SQL Server Driver][SQL Server]Violation of PRIMARY KEY constraint 'PK__country__FC7F59079346F067'. Cannot insert duplicate key in object 'dbo.country'. The duplicate key value is (11). (2627) (SQLExecDirectW); [23000] [Microsoft][ODBC SQL Server Driver][SQL Server]The statement has been terminated. (3621)\")\n",
      "INSERT INTO country (COUNTRY_CODE, COUNTRY, LANGUAGE, CURRENCY_NAME) VALUES (12, 'Taiwan', 'EN', 'new dollar')\n",
      "('23000', \"[23000] [Microsoft][ODBC SQL Server Driver][SQL Server]Violation of PRIMARY KEY constraint 'PK__country__FC7F59079346F067'. Cannot insert duplicate key in object 'dbo.country'. The duplicate key value is (12). (2627) (SQLExecDirectW); [23000] [Microsoft][ODBC SQL Server Driver][SQL Server]The statement has been terminated. (3621)\")\n",
      "INSERT INTO country (COUNTRY_CODE, COUNTRY, LANGUAGE, CURRENCY_NAME) VALUES (13, 'Korea', 'EN', 'won')\n",
      "('23000', \"[23000] [Microsoft][ODBC SQL Server Driver][SQL Server]Violation of PRIMARY KEY constraint 'PK__country__FC7F59079346F067'. Cannot insert duplicate key in object 'dbo.country'. The duplicate key value is (13). (2627) (SQLExecDirectW); [23000] [Microsoft][ODBC SQL Server Driver][SQL Server]The statement has been terminated. (3621)\")\n",
      "INSERT INTO country (COUNTRY_CODE, COUNTRY, LANGUAGE, CURRENCY_NAME) VALUES (14, 'China', 'EN', 'renminbi')\n",
      "('23000', \"[23000] [Microsoft][ODBC SQL Server Driver][SQL Server]Violation of PRIMARY KEY constraint 'PK__country__FC7F59079346F067'. Cannot insert duplicate key in object 'dbo.country'. The duplicate key value is (14). (2627) (SQLExecDirectW); [23000] [Microsoft][ODBC SQL Server Driver][SQL Server]The statement has been terminated. (3621)\")\n",
      "INSERT INTO country (COUNTRY_CODE, COUNTRY, LANGUAGE, CURRENCY_NAME) VALUES (16, 'Australia', 'EN', 'dollars')\n",
      "('23000', \"[23000] [Microsoft][ODBC SQL Server Driver][SQL Server]Violation of PRIMARY KEY constraint 'PK__country__FC7F59079346F067'. Cannot insert duplicate key in object 'dbo.country'. The duplicate key value is (16). (2627) (SQLExecDirectW); [23000] [Microsoft][ODBC SQL Server Driver][SQL Server]The statement has been terminated. (3621)\")\n",
      "INSERT INTO country (COUNTRY_CODE, COUNTRY, LANGUAGE, CURRENCY_NAME) VALUES (17, 'Belgium', 'EN', 'francs')\n",
      "('23000', \"[23000] [Microsoft][ODBC SQL Server Driver][SQL Server]Violation of PRIMARY KEY constraint 'PK__country__FC7F59079346F067'. Cannot insert duplicate key in object 'dbo.country'. The duplicate key value is (17). (2627) (SQLExecDirectW); [23000] [Microsoft][ODBC SQL Server Driver][SQL Server]The statement has been terminated. (3621)\")\n",
      "INSERT INTO country (COUNTRY_CODE, COUNTRY, LANGUAGE, CURRENCY_NAME) VALUES (18, 'Denmark', 'EN', 'kroner')\n",
      "('23000', \"[23000] [Microsoft][ODBC SQL Server Driver][SQL Server]Violation of PRIMARY KEY constraint 'PK__country__FC7F59079346F067'. Cannot insert duplicate key in object 'dbo.country'. The duplicate key value is (18). (2627) (SQLExecDirectW); [23000] [Microsoft][ODBC SQL Server Driver][SQL Server]The statement has been terminated. (3621)\")\n",
      "INSERT INTO country (COUNTRY_CODE, COUNTRY, LANGUAGE, CURRENCY_NAME) VALUES (19, 'Spain', 'EN', 'pesetas')\n",
      "('23000', \"[23000] [Microsoft][ODBC SQL Server Driver][SQL Server]Violation of PRIMARY KEY constraint 'PK__country__FC7F59079346F067'. Cannot insert duplicate key in object 'dbo.country'. The duplicate key value is (19). (2627) (SQLExecDirectW); [23000] [Microsoft][ODBC SQL Server Driver][SQL Server]The statement has been terminated. (3621)\")\n",
      "INSERT INTO country (COUNTRY_CODE, COUNTRY, LANGUAGE, CURRENCY_NAME) VALUES (20, 'Mexico', 'EN', 'pesos')\n",
      "('23000', \"[23000] [Microsoft][ODBC SQL Server Driver][SQL Server]Violation of PRIMARY KEY constraint 'PK__country__FC7F59079346F067'. Cannot insert duplicate key in object 'dbo.country'. The duplicate key value is (20). (2627) (SQLExecDirectW); [23000] [Microsoft][ODBC SQL Server Driver][SQL Server]The statement has been terminated. (3621)\")\n",
      "INSERT INTO country (COUNTRY_CODE, COUNTRY, LANGUAGE, CURRENCY_NAME) VALUES (21, 'Brazil', 'EN', 'reals')\n",
      "('23000', \"[23000] [Microsoft][ODBC SQL Server Driver][SQL Server]Violation of PRIMARY KEY constraint 'PK__country__FC7F59079346F067'. Cannot insert duplicate key in object 'dbo.country'. The duplicate key value is (21). (2627) (SQLExecDirectW); [23000] [Microsoft][ODBC SQL Server Driver][SQL Server]The statement has been terminated. (3621)\")\n",
      "INSERT INTO country (COUNTRY_CODE, COUNTRY, LANGUAGE, CURRENCY_NAME) VALUES (22, 'Finland', 'EN', 'markka')\n",
      "('23000', \"[23000] [Microsoft][ODBC SQL Server Driver][SQL Server]Violation of PRIMARY KEY constraint 'PK__country__FC7F59079346F067'. Cannot insert duplicate key in object 'dbo.country'. The duplicate key value is (22). (2627) (SQLExecDirectW); [23000] [Microsoft][ODBC SQL Server Driver][SQL Server]The statement has been terminated. (3621)\")\n"
     ]
    }
   ],
   "execution_count": 3
  }
 ],
 "metadata": {
  "kernelspec": {
   "name": "python3",
   "language": "python",
   "display_name": "Python 3 (ipykernel)"
  }
 },
 "nbformat": 5,
 "nbformat_minor": 9
}
