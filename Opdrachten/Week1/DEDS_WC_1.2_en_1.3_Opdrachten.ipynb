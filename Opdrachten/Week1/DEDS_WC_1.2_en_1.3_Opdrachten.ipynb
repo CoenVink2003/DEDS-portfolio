{
 "cells": [
  {
   "cell_type": "markdown",
   "metadata": {},
   "source": [
    "# Werkcollege-opdrachten Week 1.3"
   ]
  },
  {
   "cell_type": "markdown",
   "metadata": {},
   "source": [
    "## Dependencies importeren"
   ]
  },
  {
   "cell_type": "markdown",
   "metadata": {},
   "source": [
    "Kopieer in het codeblok hieronder van het vorige practicum de import-code voor de dependencies die het vaakst worden gebruikt om data in te lezen. Geef er ook de gebruikelijke aliassen aan.<br>\n",
    "Zet eventuele warnings uit."
   ]
  },
  {
   "cell_type": "code",
   "metadata": {
    "ExecuteTime": {
     "end_time": "2025-02-13T10:54:21.054160Z",
     "start_time": "2025-02-13T10:54:20.528846Z"
    }
   },
   "source": [
    "import warnings\n",
    "\n",
    "import numpy as np\n",
    "import pandas as pd\n",
    "warnings.simplefilter('ignore')"
   ],
   "outputs": [],
   "execution_count": 1
  },
  {
   "cell_type": "markdown",
   "metadata": {},
   "source": [
    "Zet het bestand go_sales_train.sqlite in een makkelijk te vinden map"
   ]
  },
  {
   "cell_type": "markdown",
   "metadata": {},
   "source": [
    "## Databasetabellen inlezen"
   ]
  },
  {
   "cell_type": "markdown",
   "metadata": {},
   "source": [
    "Kopieer in het codeblok hieronder van het vorige practicum de code om een connectie met het bestand go_sales_train.sqlite te maken."
   ]
  },
  {
   "cell_type": "code",
   "metadata": {
    "ExecuteTime": {
     "end_time": "2025-02-13T10:54:21.141219Z",
     "start_time": "2025-02-13T10:54:21.119393Z"
    }
   },
   "source": [
    "import sqlite3\n",
    "\n",
    "con = sqlite3.connect(\"go_sales_train.sqlite\")\n",
    "con"
   ],
   "outputs": [
    {
     "data": {
      "text/plain": [
       "<sqlite3.Connection at 0x1e1fedeba60>"
      ]
     },
     "execution_count": 2,
     "metadata": {},
     "output_type": "execute_result"
    }
   ],
   "execution_count": 2
  },
  {
   "cell_type": "markdown",
   "metadata": {},
   "source": [
    "Lees van de ingelezen go_sales_train-database te volgende tabellen in met behulp van \"SELECT * FROM *tabel*\".\n",
    "- product\n",
    "- product_type\n",
    "- product_line\n",
    "- sales_staff\n",
    "- sales_branch\n",
    "- retailer_site\n",
    "- country\n",
    "- order_header\n",
    "- order_details\n",
    "- returned_item\n",
    "- return_reason"
   ]
  },
  {
   "cell_type": "code",
   "metadata": {
    "ExecuteTime": {
     "end_time": "2025-02-13T10:54:21.538148Z",
     "start_time": "2025-02-13T10:54:21.345791Z"
    }
   },
   "source": [
    "product = pd.read_sql_query(\"SELECT * FROM product\", con)\n",
    "product_type = pd.read_sql_query(\"SELECT * FROM product_type\", con)\n",
    "product_line = pd.read_sql_query(\"SELECT * FROM product_line\", con)\n",
    "sales_staff = pd.read_sql_query(\"SELECT * FROM sales_staff\", con)\n",
    "sales_branch = pd.read_sql_query(\"SELECT * FROM sales_branch\", con)\n",
    "retailer_site = pd.read_sql_query(\"SELECT * FROM retailer_site\", con)\n",
    "country = pd.read_sql_query(\"SELECT * FROM country\", con)\n",
    "order_header = pd.read_sql_query(\"SELECT * FROM order_header\", con)\n",
    "order_details = pd.read_sql_query(\"SELECT * FROM order_details\", con)\n",
    "returned_item = pd.read_sql_query(\"SELECT * FROM returned_item\", con)\n",
    "return_reason = pd.read_sql_query(\"SELECT * FROM return_reason\", con)"
   ],
   "outputs": [],
   "execution_count": 3
  },
  {
   "cell_type": "markdown",
   "metadata": {},
   "source": [
    "Krijg je een \"no such table\" error? Dan heb je misschien met .connect() per ongeluk een leeg  databasebestand (.sqlite) aangemaakt. <u>Let op:</u> lees eventueel de informatie uit het Notebook van werkcollege 1.1b nog eens goed door."
   ]
  },
  {
   "cell_type": "markdown",
   "metadata": {},
   "source": [
    "Als je tijdens onderstaande opdrachten uit het oog verliest welke tabellen er allemaal zijn, kan je deze Pythoncode uitvoeren:"
   ]
  },
  {
   "cell_type": "code",
   "metadata": {
    "ExecuteTime": {
     "end_time": "2025-02-13T10:54:21.576316Z",
     "start_time": "2025-02-13T10:54:21.561941Z"
    }
   },
   "source": [
    "sql_query = \"SELECT name FROM sqlite_master WHERE type='table';\"\n",
    "#Vul dit codeblok verder in\n",
    "pd.read_sql(sql_query, con)\n",
    "#Op de puntjes hoort de connectie naar go_sales_train óf go_staff_train óf go_crm_train te staan."
   ],
   "outputs": [
    {
     "data": {
      "text/plain": [
       "             name\n",
       "0         country\n",
       "1   order_details\n",
       "2    order_header\n",
       "3    order_method\n",
       "4         product\n",
       "5    product_line\n",
       "6    product_type\n",
       "7   retailer_site\n",
       "8   return_reason\n",
       "9   returned_item\n",
       "10   sales_branch\n",
       "11    sales_staff"
      ],
      "text/html": [
       "<div>\n",
       "<style scoped>\n",
       "    .dataframe tbody tr th:only-of-type {\n",
       "        vertical-align: middle;\n",
       "    }\n",
       "\n",
       "    .dataframe tbody tr th {\n",
       "        vertical-align: top;\n",
       "    }\n",
       "\n",
       "    .dataframe thead th {\n",
       "        text-align: right;\n",
       "    }\n",
       "</style>\n",
       "<table border=\"1\" class=\"dataframe\">\n",
       "  <thead>\n",
       "    <tr style=\"text-align: right;\">\n",
       "      <th></th>\n",
       "      <th>name</th>\n",
       "    </tr>\n",
       "  </thead>\n",
       "  <tbody>\n",
       "    <tr>\n",
       "      <th>0</th>\n",
       "      <td>country</td>\n",
       "    </tr>\n",
       "    <tr>\n",
       "      <th>1</th>\n",
       "      <td>order_details</td>\n",
       "    </tr>\n",
       "    <tr>\n",
       "      <th>2</th>\n",
       "      <td>order_header</td>\n",
       "    </tr>\n",
       "    <tr>\n",
       "      <th>3</th>\n",
       "      <td>order_method</td>\n",
       "    </tr>\n",
       "    <tr>\n",
       "      <th>4</th>\n",
       "      <td>product</td>\n",
       "    </tr>\n",
       "    <tr>\n",
       "      <th>5</th>\n",
       "      <td>product_line</td>\n",
       "    </tr>\n",
       "    <tr>\n",
       "      <th>6</th>\n",
       "      <td>product_type</td>\n",
       "    </tr>\n",
       "    <tr>\n",
       "      <th>7</th>\n",
       "      <td>retailer_site</td>\n",
       "    </tr>\n",
       "    <tr>\n",
       "      <th>8</th>\n",
       "      <td>return_reason</td>\n",
       "    </tr>\n",
       "    <tr>\n",
       "      <th>9</th>\n",
       "      <td>returned_item</td>\n",
       "    </tr>\n",
       "    <tr>\n",
       "      <th>10</th>\n",
       "      <td>sales_branch</td>\n",
       "    </tr>\n",
       "    <tr>\n",
       "      <th>11</th>\n",
       "      <td>sales_staff</td>\n",
       "    </tr>\n",
       "  </tbody>\n",
       "</table>\n",
       "</div>"
      ]
     },
     "execution_count": 4,
     "metadata": {},
     "output_type": "execute_result"
    }
   ],
   "execution_count": 4
  },
  {
   "cell_type": "markdown",
   "metadata": {},
   "source": [
    "erachter "
   ]
  },
  {
   "cell_type": "markdown",
   "metadata": {},
   "source": [
    "Let op! Voor alle onderstaande opdrachten mag je <u>alleen Python</u> gebruiken, <u>geen SQL!</u>"
   ]
  },
  {
   "cell_type": "markdown",
   "metadata": {},
   "source": [
    "## Selecties op één tabel zonder functies"
   ]
  },
  {
   "cell_type": "markdown",
   "metadata": {},
   "source": [
    "Geef een overzicht met daarin de producten en hun productiekosten waarvan de productiekosten lager dan 100 dollar en hoger dan 50 dollar ligt. (2 kolommen, 23 rijen)"
   ]
  },
  {
   "cell_type": "code",
   "metadata": {
    "ExecuteTime": {
     "end_time": "2025-02-13T10:54:21.653159Z",
     "start_time": "2025-02-13T10:54:21.637854Z"
    }
   },
   "source": [
    "productiekosten_eisen = (product['PRODUCTION_COST'] > 50) & (product['PRODUCTION_COST'] < 100)\n",
    "\n",
    "product.loc[(productiekosten_eisen), (\"PRODUCT_NAME\", \"PRODUCTION_COST\")]"
   ],
   "outputs": [
    {
     "data": {
      "text/plain": [
       "                        PRODUCT_NAME  PRODUCTION_COST\n",
       "5          TrailChef Deluxe Cook Set            85.11\n",
       "7             TrailChef Double Flame            75.00\n",
       "16                   Hibernator Lite            60.00\n",
       "17                        Hibernator            86.00\n",
       "19   Hibernator Self - Inflating Mat            78.55\n",
       "22               Hibernator Camp Cot            65.33\n",
       "23      Canyon Mule Climber Backpack            62.50\n",
       "45           Granite Climbing Helmet            52.86\n",
       "47             Husky Harness Extreme            55.00\n",
       "57                    Granite Hammer            57.13\n",
       "68                         Polar Ice            73.33\n",
       "69                      Polar Sports            80.00\n",
       "70                        Polar Wave            60.00\n",
       "71                     Polar Extreme            72.50\n",
       "74                      Edge Extreme            80.00\n",
       "77                         Seeker 35            79.19\n",
       "78                         Seeker 50            92.58\n",
       "79                    Seeker Extreme            94.12\n",
       "82                    Glacier Deluxe            56.25\n",
       "83                       Glacier GPS            78.55\n",
       "109                Blue Steel Putter            60.00\n",
       "110            Blue Steel Max Putter            81.80\n",
       "113              Course Pro Golf Bag            80.00"
      ],
      "text/html": [
       "<div>\n",
       "<style scoped>\n",
       "    .dataframe tbody tr th:only-of-type {\n",
       "        vertical-align: middle;\n",
       "    }\n",
       "\n",
       "    .dataframe tbody tr th {\n",
       "        vertical-align: top;\n",
       "    }\n",
       "\n",
       "    .dataframe thead th {\n",
       "        text-align: right;\n",
       "    }\n",
       "</style>\n",
       "<table border=\"1\" class=\"dataframe\">\n",
       "  <thead>\n",
       "    <tr style=\"text-align: right;\">\n",
       "      <th></th>\n",
       "      <th>PRODUCT_NAME</th>\n",
       "      <th>PRODUCTION_COST</th>\n",
       "    </tr>\n",
       "  </thead>\n",
       "  <tbody>\n",
       "    <tr>\n",
       "      <th>5</th>\n",
       "      <td>TrailChef Deluxe Cook Set</td>\n",
       "      <td>85.11</td>\n",
       "    </tr>\n",
       "    <tr>\n",
       "      <th>7</th>\n",
       "      <td>TrailChef Double Flame</td>\n",
       "      <td>75.00</td>\n",
       "    </tr>\n",
       "    <tr>\n",
       "      <th>16</th>\n",
       "      <td>Hibernator Lite</td>\n",
       "      <td>60.00</td>\n",
       "    </tr>\n",
       "    <tr>\n",
       "      <th>17</th>\n",
       "      <td>Hibernator</td>\n",
       "      <td>86.00</td>\n",
       "    </tr>\n",
       "    <tr>\n",
       "      <th>19</th>\n",
       "      <td>Hibernator Self - Inflating Mat</td>\n",
       "      <td>78.55</td>\n",
       "    </tr>\n",
       "    <tr>\n",
       "      <th>22</th>\n",
       "      <td>Hibernator Camp Cot</td>\n",
       "      <td>65.33</td>\n",
       "    </tr>\n",
       "    <tr>\n",
       "      <th>23</th>\n",
       "      <td>Canyon Mule Climber Backpack</td>\n",
       "      <td>62.50</td>\n",
       "    </tr>\n",
       "    <tr>\n",
       "      <th>45</th>\n",
       "      <td>Granite Climbing Helmet</td>\n",
       "      <td>52.86</td>\n",
       "    </tr>\n",
       "    <tr>\n",
       "      <th>47</th>\n",
       "      <td>Husky Harness Extreme</td>\n",
       "      <td>55.00</td>\n",
       "    </tr>\n",
       "    <tr>\n",
       "      <th>57</th>\n",
       "      <td>Granite Hammer</td>\n",
       "      <td>57.13</td>\n",
       "    </tr>\n",
       "    <tr>\n",
       "      <th>68</th>\n",
       "      <td>Polar Ice</td>\n",
       "      <td>73.33</td>\n",
       "    </tr>\n",
       "    <tr>\n",
       "      <th>69</th>\n",
       "      <td>Polar Sports</td>\n",
       "      <td>80.00</td>\n",
       "    </tr>\n",
       "    <tr>\n",
       "      <th>70</th>\n",
       "      <td>Polar Wave</td>\n",
       "      <td>60.00</td>\n",
       "    </tr>\n",
       "    <tr>\n",
       "      <th>71</th>\n",
       "      <td>Polar Extreme</td>\n",
       "      <td>72.50</td>\n",
       "    </tr>\n",
       "    <tr>\n",
       "      <th>74</th>\n",
       "      <td>Edge Extreme</td>\n",
       "      <td>80.00</td>\n",
       "    </tr>\n",
       "    <tr>\n",
       "      <th>77</th>\n",
       "      <td>Seeker 35</td>\n",
       "      <td>79.19</td>\n",
       "    </tr>\n",
       "    <tr>\n",
       "      <th>78</th>\n",
       "      <td>Seeker 50</td>\n",
       "      <td>92.58</td>\n",
       "    </tr>\n",
       "    <tr>\n",
       "      <th>79</th>\n",
       "      <td>Seeker Extreme</td>\n",
       "      <td>94.12</td>\n",
       "    </tr>\n",
       "    <tr>\n",
       "      <th>82</th>\n",
       "      <td>Glacier Deluxe</td>\n",
       "      <td>56.25</td>\n",
       "    </tr>\n",
       "    <tr>\n",
       "      <th>83</th>\n",
       "      <td>Glacier GPS</td>\n",
       "      <td>78.55</td>\n",
       "    </tr>\n",
       "    <tr>\n",
       "      <th>109</th>\n",
       "      <td>Blue Steel Putter</td>\n",
       "      <td>60.00</td>\n",
       "    </tr>\n",
       "    <tr>\n",
       "      <th>110</th>\n",
       "      <td>Blue Steel Max Putter</td>\n",
       "      <td>81.80</td>\n",
       "    </tr>\n",
       "    <tr>\n",
       "      <th>113</th>\n",
       "      <td>Course Pro Golf Bag</td>\n",
       "      <td>80.00</td>\n",
       "    </tr>\n",
       "  </tbody>\n",
       "</table>\n",
       "</div>"
      ]
     },
     "execution_count": 5,
     "metadata": {},
     "output_type": "execute_result"
    }
   ],
   "execution_count": 5
  },
  {
   "cell_type": "markdown",
   "metadata": {},
   "source": [
    "Geef een overzicht met daarin de producten en hun marge waarvan de marge lager dan 20 % of hoger dan 60 % ligt. (2 kolommen, 7 rijen) "
   ]
  },
  {
   "cell_type": "code",
   "metadata": {
    "ExecuteTime": {
     "end_time": "2025-02-13T10:54:21.915664Z",
     "start_time": "2025-02-13T10:54:21.885963Z"
    }
   },
   "source": [
    "marge_eisen = (product['MARGIN'] < 0.2) | (product['MARGIN'] > 0.6)\n",
    "\n",
    "product.loc[(marge_eisen), [\"PRODUCT_NAME\", \"MARGIN\"]]"
   ],
   "outputs": [
    {
     "data": {
      "text/plain": [
       "                    PRODUCT_NAME  MARGIN\n",
       "20                Hibernator Pad    0.17\n",
       "23  Canyon Mule Climber Backpack    0.17\n",
       "85             BugShield Natural    0.67\n",
       "86               BugShield Spray    0.67\n",
       "87         BugShield Lotion Lite    0.70\n",
       "88              BugShield Lotion    0.63\n",
       "89             BugShield Extreme    0.63"
      ],
      "text/html": [
       "<div>\n",
       "<style scoped>\n",
       "    .dataframe tbody tr th:only-of-type {\n",
       "        vertical-align: middle;\n",
       "    }\n",
       "\n",
       "    .dataframe tbody tr th {\n",
       "        vertical-align: top;\n",
       "    }\n",
       "\n",
       "    .dataframe thead th {\n",
       "        text-align: right;\n",
       "    }\n",
       "</style>\n",
       "<table border=\"1\" class=\"dataframe\">\n",
       "  <thead>\n",
       "    <tr style=\"text-align: right;\">\n",
       "      <th></th>\n",
       "      <th>PRODUCT_NAME</th>\n",
       "      <th>MARGIN</th>\n",
       "    </tr>\n",
       "  </thead>\n",
       "  <tbody>\n",
       "    <tr>\n",
       "      <th>20</th>\n",
       "      <td>Hibernator Pad</td>\n",
       "      <td>0.17</td>\n",
       "    </tr>\n",
       "    <tr>\n",
       "      <th>23</th>\n",
       "      <td>Canyon Mule Climber Backpack</td>\n",
       "      <td>0.17</td>\n",
       "    </tr>\n",
       "    <tr>\n",
       "      <th>85</th>\n",
       "      <td>BugShield Natural</td>\n",
       "      <td>0.67</td>\n",
       "    </tr>\n",
       "    <tr>\n",
       "      <th>86</th>\n",
       "      <td>BugShield Spray</td>\n",
       "      <td>0.67</td>\n",
       "    </tr>\n",
       "    <tr>\n",
       "      <th>87</th>\n",
       "      <td>BugShield Lotion Lite</td>\n",
       "      <td>0.70</td>\n",
       "    </tr>\n",
       "    <tr>\n",
       "      <th>88</th>\n",
       "      <td>BugShield Lotion</td>\n",
       "      <td>0.63</td>\n",
       "    </tr>\n",
       "    <tr>\n",
       "      <th>89</th>\n",
       "      <td>BugShield Extreme</td>\n",
       "      <td>0.63</td>\n",
       "    </tr>\n",
       "  </tbody>\n",
       "</table>\n",
       "</div>"
      ]
     },
     "execution_count": 6,
     "metadata": {},
     "output_type": "execute_result"
    }
   ],
   "execution_count": 6
  },
  {
   "cell_type": "markdown",
   "metadata": {},
   "source": [
    "Geef een overzicht met daarin de landen waar met francs wordt betaald. Sorteer de uitkomst op land.  (1 kolom, 3 rijen)"
   ]
  },
  {
   "cell_type": "code",
   "metadata": {
    "ExecuteTime": {
     "end_time": "2025-02-13T10:54:22.287483Z",
     "start_time": "2025-02-13T10:54:22.268664Z"
    }
   },
   "source": [
    "wordt_betaald_met_francs = country['CURRENCY_NAME'] == \"francs\"\n",
    "country.loc[wordt_betaald_met_francs, [\"COUNTRY\"]].sort_values(\"COUNTRY\")"
   ],
   "outputs": [
    {
     "data": {
      "text/plain": [
       "        COUNTRY\n",
       "15      Belgium\n",
       "0        France\n",
       "7   Switzerland"
      ],
      "text/html": [
       "<div>\n",
       "<style scoped>\n",
       "    .dataframe tbody tr th:only-of-type {\n",
       "        vertical-align: middle;\n",
       "    }\n",
       "\n",
       "    .dataframe tbody tr th {\n",
       "        vertical-align: top;\n",
       "    }\n",
       "\n",
       "    .dataframe thead th {\n",
       "        text-align: right;\n",
       "    }\n",
       "</style>\n",
       "<table border=\"1\" class=\"dataframe\">\n",
       "  <thead>\n",
       "    <tr style=\"text-align: right;\">\n",
       "      <th></th>\n",
       "      <th>COUNTRY</th>\n",
       "    </tr>\n",
       "  </thead>\n",
       "  <tbody>\n",
       "    <tr>\n",
       "      <th>15</th>\n",
       "      <td>Belgium</td>\n",
       "    </tr>\n",
       "    <tr>\n",
       "      <th>0</th>\n",
       "      <td>France</td>\n",
       "    </tr>\n",
       "    <tr>\n",
       "      <th>7</th>\n",
       "      <td>Switzerland</td>\n",
       "    </tr>\n",
       "  </tbody>\n",
       "</table>\n",
       "</div>"
      ]
     },
     "execution_count": 7,
     "metadata": {},
     "output_type": "execute_result"
    }
   ],
   "execution_count": 7
  },
  {
   "cell_type": "markdown",
   "metadata": {},
   "source": [
    "Geef een overzicht met daarin de verschillende introductiedatums waarop producten met meer dan 50% marge worden geïntroduceerd (1 kolom, 7 rijen) "
   ]
  },
  {
   "cell_type": "code",
   "metadata": {
    "ExecuteTime": {
     "end_time": "2025-02-13T10:54:22.667383Z",
     "start_time": "2025-02-13T10:54:22.654768Z"
    }
   },
   "source": [
    "meer_dan_50_marge = product['MARGIN'] > 0.5\n",
    "product.loc[(meer_dan_50_marge), \"INTRODUCTION_DATE\"].drop_duplicates()"
   ],
   "outputs": [
    {
     "data": {
      "text/plain": [
       "66     2000-10-26\n",
       "85     1995-02-15\n",
       "101    2003-12-10\n",
       "103    2003-12-18\n",
       "104    2003-12-27\n",
       "106    2004-01-13\n",
       "110    2003-12-15\n",
       "Name: INTRODUCTION_DATE, dtype: object"
      ]
     },
     "execution_count": 8,
     "metadata": {},
     "output_type": "execute_result"
    }
   ],
   "execution_count": 8
  },
  {
   "cell_type": "markdown",
   "metadata": {},
   "source": [
    "Geef een overzicht met daarin het eerste adres en de stad van verkoopafdelingen waarvan zowel het tweede adres als de regio bekend is (2 kolommen, 7 rijen)"
   ]
  },
  {
   "cell_type": "code",
   "metadata": {
    "ExecuteTime": {
     "end_time": "2025-02-13T10:54:23.055300Z",
     "start_time": "2025-02-13T10:54:23.040602Z"
    }
   },
   "source": [
    "not_null = (sales_branch['ADDRESS2'].notna()) & (sales_branch['REGION'].notna())\n",
    "sales_branch.loc[not_null, ['ADDRESS1', 'CITY']]"
   ],
   "outputs": [
    {
     "data": {
      "text/plain": [
       "                            ADDRESS1              CITY\n",
       "2                Singelgravenplein 4         Amsterdam\n",
       "13  Prol. Paseo de la Reforma No. 51  Distrito Federal\n",
       "14               202-2-3 Hyakunincho             Tokyo\n",
       "15                     543-225 Asahi        Osaka City\n",
       "16                  2315 Queen's Ave         Melbourne\n",
       "18             Avenida Paulista, 333         São Paulo\n",
       "24                    3 Albany Court        Birmingham"
      ],
      "text/html": [
       "<div>\n",
       "<style scoped>\n",
       "    .dataframe tbody tr th:only-of-type {\n",
       "        vertical-align: middle;\n",
       "    }\n",
       "\n",
       "    .dataframe tbody tr th {\n",
       "        vertical-align: top;\n",
       "    }\n",
       "\n",
       "    .dataframe thead th {\n",
       "        text-align: right;\n",
       "    }\n",
       "</style>\n",
       "<table border=\"1\" class=\"dataframe\">\n",
       "  <thead>\n",
       "    <tr style=\"text-align: right;\">\n",
       "      <th></th>\n",
       "      <th>ADDRESS1</th>\n",
       "      <th>CITY</th>\n",
       "    </tr>\n",
       "  </thead>\n",
       "  <tbody>\n",
       "    <tr>\n",
       "      <th>2</th>\n",
       "      <td>Singelgravenplein 4</td>\n",
       "      <td>Amsterdam</td>\n",
       "    </tr>\n",
       "    <tr>\n",
       "      <th>13</th>\n",
       "      <td>Prol. Paseo de la Reforma No. 51</td>\n",
       "      <td>Distrito Federal</td>\n",
       "    </tr>\n",
       "    <tr>\n",
       "      <th>14</th>\n",
       "      <td>202-2-3 Hyakunincho</td>\n",
       "      <td>Tokyo</td>\n",
       "    </tr>\n",
       "    <tr>\n",
       "      <th>15</th>\n",
       "      <td>543-225 Asahi</td>\n",
       "      <td>Osaka City</td>\n",
       "    </tr>\n",
       "    <tr>\n",
       "      <th>16</th>\n",
       "      <td>2315 Queen's Ave</td>\n",
       "      <td>Melbourne</td>\n",
       "    </tr>\n",
       "    <tr>\n",
       "      <th>18</th>\n",
       "      <td>Avenida Paulista, 333</td>\n",
       "      <td>São Paulo</td>\n",
       "    </tr>\n",
       "    <tr>\n",
       "      <th>24</th>\n",
       "      <td>3 Albany Court</td>\n",
       "      <td>Birmingham</td>\n",
       "    </tr>\n",
       "  </tbody>\n",
       "</table>\n",
       "</div>"
      ]
     },
     "execution_count": 9,
     "metadata": {},
     "output_type": "execute_result"
    }
   ],
   "execution_count": 9
  },
  {
   "cell_type": "markdown",
   "metadata": {},
   "source": [
    "Geef een overzicht met daarin de landen waar met dollars (dollars of new dollar) wordt betaald. Sorteer de uitkomst op land. (1 kolom, 4 rijen) "
   ]
  },
  {
   "cell_type": "code",
   "metadata": {
    "ExecuteTime": {
     "end_time": "2025-02-13T10:54:23.551662Z",
     "start_time": "2025-02-13T10:54:23.533037Z"
    }
   },
   "source": [
    "wordt_betaald_met_dollars = (country['CURRENCY_NAME'] == \"dollars\") | (country['CURRENCY_NAME'] == \"new dollar\")\n",
    "country.loc[wordt_betaald_met_dollars, [\"COUNTRY\"]].sort_values(\"COUNTRY\")"
   ],
   "outputs": [
    {
     "data": {
      "text/plain": [
       "          COUNTRY\n",
       "14      Australia\n",
       "3          Canada\n",
       "11         Taiwan\n",
       "2   United States"
      ],
      "text/html": [
       "<div>\n",
       "<style scoped>\n",
       "    .dataframe tbody tr th:only-of-type {\n",
       "        vertical-align: middle;\n",
       "    }\n",
       "\n",
       "    .dataframe tbody tr th {\n",
       "        vertical-align: top;\n",
       "    }\n",
       "\n",
       "    .dataframe thead th {\n",
       "        text-align: right;\n",
       "    }\n",
       "</style>\n",
       "<table border=\"1\" class=\"dataframe\">\n",
       "  <thead>\n",
       "    <tr style=\"text-align: right;\">\n",
       "      <th></th>\n",
       "      <th>COUNTRY</th>\n",
       "    </tr>\n",
       "  </thead>\n",
       "  <tbody>\n",
       "    <tr>\n",
       "      <th>14</th>\n",
       "      <td>Australia</td>\n",
       "    </tr>\n",
       "    <tr>\n",
       "      <th>3</th>\n",
       "      <td>Canada</td>\n",
       "    </tr>\n",
       "    <tr>\n",
       "      <th>11</th>\n",
       "      <td>Taiwan</td>\n",
       "    </tr>\n",
       "    <tr>\n",
       "      <th>2</th>\n",
       "      <td>United States</td>\n",
       "    </tr>\n",
       "  </tbody>\n",
       "</table>\n",
       "</div>"
      ]
     },
     "execution_count": 10,
     "metadata": {},
     "output_type": "execute_result"
    }
   ],
   "execution_count": 10
  },
  {
   "cell_type": "markdown",
   "metadata": {},
   "source": [
    "Geef een overzicht met daarin beide adressen en de stad van vestigingen van klanten waarvan de postcode begint met een ‘D’ (van duitsland). Filter op vestigingen die een tweede adres hebben. (3 kolommen, 2 rijen) "
   ]
  },
  {
   "cell_type": "code",
   "metadata": {
    "ExecuteTime": {
     "end_time": "2025-02-13T10:54:23.952795Z",
     "start_time": "2025-02-13T10:54:23.934567Z"
    }
   },
   "source": [
    "is_from_germany_and_multiple_addresses = (retailer_site[\"POSTAL_ZONE\"].str[0] == \"D\") & (retailer_site[\"ADDRESS2\"].notna())\n",
    "retailer_site.loc[is_from_germany_and_multiple_addresses, [\"ADDRESS1\", \"ADDRESS2\", \"CITY\"]]"
   ],
   "outputs": [
    {
     "data": {
      "text/plain": [
       "            ADDRESS1       ADDRESS2       CITY\n",
       "31  Röntgenstraße 90  3. Tür rechts  Frankfurt\n",
       "59   Grubesallee 141       4. Stock    Hamburg"
      ],
      "text/html": [
       "<div>\n",
       "<style scoped>\n",
       "    .dataframe tbody tr th:only-of-type {\n",
       "        vertical-align: middle;\n",
       "    }\n",
       "\n",
       "    .dataframe tbody tr th {\n",
       "        vertical-align: top;\n",
       "    }\n",
       "\n",
       "    .dataframe thead th {\n",
       "        text-align: right;\n",
       "    }\n",
       "</style>\n",
       "<table border=\"1\" class=\"dataframe\">\n",
       "  <thead>\n",
       "    <tr style=\"text-align: right;\">\n",
       "      <th></th>\n",
       "      <th>ADDRESS1</th>\n",
       "      <th>ADDRESS2</th>\n",
       "      <th>CITY</th>\n",
       "    </tr>\n",
       "  </thead>\n",
       "  <tbody>\n",
       "    <tr>\n",
       "      <th>31</th>\n",
       "      <td>Röntgenstraße 90</td>\n",
       "      <td>3. Tür rechts</td>\n",
       "      <td>Frankfurt</td>\n",
       "    </tr>\n",
       "    <tr>\n",
       "      <th>59</th>\n",
       "      <td>Grubesallee 141</td>\n",
       "      <td>4. Stock</td>\n",
       "      <td>Hamburg</td>\n",
       "    </tr>\n",
       "  </tbody>\n",
       "</table>\n",
       "</div>"
      ]
     },
     "execution_count": 11,
     "metadata": {},
     "output_type": "execute_result"
    }
   ],
   "execution_count": 11
  },
  {
   "cell_type": "markdown",
   "metadata": {},
   "source": [
    "## Selecties op één tabel met functies"
   ]
  },
  {
   "cell_type": "markdown",
   "metadata": {},
   "source": [
    "Geef het totaal aantal producten dat is teruggebracht (1 waarde) "
   ]
  },
  {
   "cell_type": "code",
   "metadata": {
    "ExecuteTime": {
     "end_time": "2025-02-13T10:54:24.284239Z",
     "start_time": "2025-02-13T10:54:24.269103Z"
    }
   },
   "source": "returned_item.loc[:, ['RETURN_QUANTITY']].sum()",
   "outputs": [
    {
     "data": {
      "text/plain": [
       "RETURN_QUANTITY    11908\n",
       "dtype: int64"
      ]
     },
     "execution_count": 12,
     "metadata": {},
     "output_type": "execute_result"
    }
   ],
   "execution_count": 12
  },
  {
   "cell_type": "markdown",
   "metadata": {},
   "source": [
    "Geef het aantal regio’s waarin verkoopafdelingen gevestigd zijn. (1 waarde)"
   ]
  },
  {
   "cell_type": "code",
   "metadata": {
    "ExecuteTime": {
     "end_time": "2025-02-13T10:54:24.788146Z",
     "start_time": "2025-02-13T10:54:24.776697Z"
    }
   },
   "source": "sales_branch.loc[:, ['REGION']].drop_duplicates().shape[0]",
   "outputs": [
    {
     "data": {
      "text/plain": [
       "16"
      ]
     },
     "execution_count": 13,
     "metadata": {},
     "output_type": "execute_result"
    }
   ],
   "execution_count": 13
  },
  {
   "cell_type": "markdown",
   "metadata": {},
   "source": [
    "Maak 3 variabelen:\n",
    "- Een met de laagste\n",
    "- Een met de hoogste\n",
    "- Een met de gemiddelde (afgerond op 2 decimalen)\n",
    "\n",
    "marge van producten (3 kolommen, 1 rij) "
   ]
  },
  {
   "cell_type": "code",
   "metadata": {
    "ExecuteTime": {
     "end_time": "2025-02-13T10:54:25.189295Z",
     "start_time": "2025-02-13T10:54:25.172679Z"
    }
   },
   "source": [
    "laagste = product['MARGIN'].min()\n",
    "hoogste = product['MARGIN'].max();\n",
    "gemiddelde = product['MARGIN'].mean();\n",
    "\n",
    "resultaat = pd.DataFrame({\n",
    "    \"Laagste\": [laagste],\n",
    "    \"Hoogste\": [hoogste],\n",
    "    \"Gemiddelde\": [gemiddelde]\n",
    "})\n",
    "\n",
    "resultaat"
   ],
   "outputs": [
    {
     "data": {
      "text/plain": [
       "   Laagste  Hoogste  Gemiddelde\n",
       "0     0.17      0.7    0.396609"
      ],
      "text/html": [
       "<div>\n",
       "<style scoped>\n",
       "    .dataframe tbody tr th:only-of-type {\n",
       "        vertical-align: middle;\n",
       "    }\n",
       "\n",
       "    .dataframe tbody tr th {\n",
       "        vertical-align: top;\n",
       "    }\n",
       "\n",
       "    .dataframe thead th {\n",
       "        text-align: right;\n",
       "    }\n",
       "</style>\n",
       "<table border=\"1\" class=\"dataframe\">\n",
       "  <thead>\n",
       "    <tr style=\"text-align: right;\">\n",
       "      <th></th>\n",
       "      <th>Laagste</th>\n",
       "      <th>Hoogste</th>\n",
       "      <th>Gemiddelde</th>\n",
       "    </tr>\n",
       "  </thead>\n",
       "  <tbody>\n",
       "    <tr>\n",
       "      <th>0</th>\n",
       "      <td>0.17</td>\n",
       "      <td>0.7</td>\n",
       "      <td>0.396609</td>\n",
       "    </tr>\n",
       "  </tbody>\n",
       "</table>\n",
       "</div>"
      ]
     },
     "execution_count": 14,
     "metadata": {},
     "output_type": "execute_result"
    }
   ],
   "execution_count": 14
  },
  {
   "cell_type": "markdown",
   "metadata": {},
   "source": [
    "Geef het aantal vestigingen van klanten waarvan het 2e adres niet bekend is (1 waarde)"
   ]
  },
  {
   "cell_type": "code",
   "metadata": {
    "ExecuteTime": {
     "end_time": "2025-02-13T10:54:25.553082Z",
     "start_time": "2025-02-13T10:54:25.545631Z"
    }
   },
   "source": [
    "address_not_known = retailer_site[\"ADDRESS2\"].isna()\n",
    "retailer_site.loc[address_not_known, :].shape[0]"
   ],
   "outputs": [
    {
     "data": {
      "text/plain": [
       "286"
      ]
     },
     "execution_count": 15,
     "metadata": {},
     "output_type": "execute_result"
    }
   ],
   "execution_count": 15
  },
  {
   "cell_type": "markdown",
   "metadata": {},
   "source": " Geef de gemiddelde kostprijs van de verkochte producten waarop korting (unit_sale_price < unit_price) is verleend (1 waarde)"
  },
  {
   "cell_type": "code",
   "metadata": {
    "ExecuteTime": {
     "end_time": "2025-02-13T10:54:25.811897Z",
     "start_time": "2025-02-13T10:54:25.787753Z"
    }
   },
   "source": [
    "order_detail_product = pd.merge(order_details, product, left_on=\"PRODUCT_NUMBER\", how=\"inner\", right_on=\"PRODUCT_NUMBER\")\n",
    "\n",
    "is_korting = order_detail_product[\"UNIT_SALE_PRICE\"] < order_detail_product[\"UNIT_PRICE\"]\n",
    "\n",
    "\n",
    "order_detail_product.loc[is_korting, [\"PRODUCTION_COST\"]].mean()\n",
    "\n",
    "#order_details.loc[is_korting, ].shape[0]"
   ],
   "outputs": [
    {
     "data": {
      "text/plain": [
       "PRODUCTION_COST    124.098785\n",
       "dtype: float64"
      ]
     },
     "execution_count": 16,
     "metadata": {},
     "output_type": "execute_result"
    }
   ],
   "execution_count": 16
  },
  {
   "cell_type": "markdown",
   "metadata": {},
   "source": [
    "Geef een overzicht met daarin het aantal medewerkers per medewerkersfunctie (2 kolommen, 7 rijen) "
   ]
  },
  {
   "cell_type": "code",
   "metadata": {
    "ExecuteTime": {
     "end_time": "2025-02-13T10:54:26.008351Z",
     "start_time": "2025-02-13T10:54:25.995521Z"
    }
   },
   "source": "sales_staff.groupby(\"POSITION_EN\").size()",
   "outputs": [
    {
     "data": {
      "text/plain": [
       "POSITION_EN\n",
       "Branch Manager                  19\n",
       "District Manager                 4\n",
       "General Manager                  1\n",
       "Level 1 Sales Representative    13\n",
       "Level 2 Sales Representative    39\n",
       "Level 3 Sales Representative    24\n",
       "Regional Manager                 2\n",
       "dtype: int64"
      ]
     },
     "execution_count": 17,
     "metadata": {},
     "output_type": "execute_result"
    }
   ],
   "execution_count": 17
  },
  {
   "cell_type": "markdown",
   "metadata": {},
   "source": [
    "Geef een overzicht met daarin per telefoonnummer het aantal medewerkers dat op dat telefoonnummer bereikbaar is. Toon alleen de telefoonnummer waarop meer dan 4 medewerkers bereikbaar zijn. (2 kolommen, 10 rijen) "
   ]
  },
  {
   "cell_type": "code",
   "metadata": {
    "ExecuteTime": {
     "end_time": "2025-02-13T10:54:26.263429Z",
     "start_time": "2025-02-13T10:54:26.250847Z"
    }
   },
   "source": [
    "sales_staff_2 = sales_staff[\"WORK_PHONE\"].value_counts()\n",
    "resultaat = sales_staff_2[sales_staff_2 > 4]\n",
    "resultaat"
   ],
   "outputs": [
    {
     "data": {
      "text/plain": [
       "WORK_PHONE\n",
       "1 (305) 557-4810       6\n",
       "1 (617) 268-6754       6\n",
       "+31 (0)20 692 93 94    5\n",
       "1 (403) 232-5986       5\n",
       "+33 1 68 94 52 20      5\n",
       "1 (206) 292-0012       5\n",
       "1 (416) 493-5595       5\n",
       "1 (310) 281-5722       5\n",
       "+(61) 03 2982  4242    5\n",
       "+(44) 121 3505267      5\n",
       "Name: count, dtype: int64"
      ]
     },
     "execution_count": 18,
     "metadata": {},
     "output_type": "execute_result"
    }
   ],
   "execution_count": 18
  },
  {
   "cell_type": "markdown",
   "metadata": {},
   "source": [
    "## Selecties op meerdere tabellen zonder functies"
   ]
  },
  {
   "cell_type": "markdown",
   "metadata": {},
   "source": [
    "Geef een overzicht met daarin het eerste adres en de stad van vestigingen van klanten uit ‘Netherlands’ (2 kolommen, 20 rijen) "
   ]
  },
  {
   "cell_type": "code",
   "metadata": {
    "ExecuteTime": {
     "end_time": "2025-02-13T10:54:26.608127Z",
     "start_time": "2025-02-13T10:54:26.594975Z"
    }
   },
   "source": [
    "retailer_site_country = pd.merge(retailer_site, country, left_on=\"COUNTRY_CODE\", how=\"inner\", right_on=\"COUNTRY_CODE\")\n",
    "retailer_site_country.loc[retailer_site_country[\"COUNTRY\"] == \"Netherlands\", ['ADDRESS1', 'CITY']]"
   ],
   "outputs": [
    {
     "data": {
      "text/plain": [
       "                      ADDRESS1          CITY\n",
       "240                   Beets 36         Beets\n",
       "241               Perestraat 1      Deventer\n",
       "242  Laan van Meerdervoort 966      Den Haag\n",
       "243             Kalfjeslaan 47    Amstelveen\n",
       "244               Startbaan 11    Amstelveen\n",
       "245      Noorderspoorsingel 28     Groningen\n",
       "246              Hogehilweg 13     Amsterdam\n",
       "247             Spoorstraat 43    Varsseveld\n",
       "248             Westhavenweg 8     Amsterdam\n",
       "249              Westzeedijk 4        Muiden\n",
       "250            Gooiergracht 91         Laren\n",
       "251            Hoofdstraat 150   Pieterburen\n",
       "252                Olde Diek 2         Laren\n",
       "253     Amsterdamsestraatweg 8      Maarssen\n",
       "254        Krayenhoffstraat 11     Amsterdam\n",
       "255         Overschiestraat 19     Amsterdam\n",
       "256              Havenbuurt 12        Marken\n",
       "257               Duivendaal 1    Wageningen\n",
       "258              Voorstraat 37  Nieuweschans\n",
       "259         Stadhouderslaan 18     Rotterdam"
      ],
      "text/html": [
       "<div>\n",
       "<style scoped>\n",
       "    .dataframe tbody tr th:only-of-type {\n",
       "        vertical-align: middle;\n",
       "    }\n",
       "\n",
       "    .dataframe tbody tr th {\n",
       "        vertical-align: top;\n",
       "    }\n",
       "\n",
       "    .dataframe thead th {\n",
       "        text-align: right;\n",
       "    }\n",
       "</style>\n",
       "<table border=\"1\" class=\"dataframe\">\n",
       "  <thead>\n",
       "    <tr style=\"text-align: right;\">\n",
       "      <th></th>\n",
       "      <th>ADDRESS1</th>\n",
       "      <th>CITY</th>\n",
       "    </tr>\n",
       "  </thead>\n",
       "  <tbody>\n",
       "    <tr>\n",
       "      <th>240</th>\n",
       "      <td>Beets 36</td>\n",
       "      <td>Beets</td>\n",
       "    </tr>\n",
       "    <tr>\n",
       "      <th>241</th>\n",
       "      <td>Perestraat 1</td>\n",
       "      <td>Deventer</td>\n",
       "    </tr>\n",
       "    <tr>\n",
       "      <th>242</th>\n",
       "      <td>Laan van Meerdervoort 966</td>\n",
       "      <td>Den Haag</td>\n",
       "    </tr>\n",
       "    <tr>\n",
       "      <th>243</th>\n",
       "      <td>Kalfjeslaan 47</td>\n",
       "      <td>Amstelveen</td>\n",
       "    </tr>\n",
       "    <tr>\n",
       "      <th>244</th>\n",
       "      <td>Startbaan 11</td>\n",
       "      <td>Amstelveen</td>\n",
       "    </tr>\n",
       "    <tr>\n",
       "      <th>245</th>\n",
       "      <td>Noorderspoorsingel 28</td>\n",
       "      <td>Groningen</td>\n",
       "    </tr>\n",
       "    <tr>\n",
       "      <th>246</th>\n",
       "      <td>Hogehilweg 13</td>\n",
       "      <td>Amsterdam</td>\n",
       "    </tr>\n",
       "    <tr>\n",
       "      <th>247</th>\n",
       "      <td>Spoorstraat 43</td>\n",
       "      <td>Varsseveld</td>\n",
       "    </tr>\n",
       "    <tr>\n",
       "      <th>248</th>\n",
       "      <td>Westhavenweg 8</td>\n",
       "      <td>Amsterdam</td>\n",
       "    </tr>\n",
       "    <tr>\n",
       "      <th>249</th>\n",
       "      <td>Westzeedijk 4</td>\n",
       "      <td>Muiden</td>\n",
       "    </tr>\n",
       "    <tr>\n",
       "      <th>250</th>\n",
       "      <td>Gooiergracht 91</td>\n",
       "      <td>Laren</td>\n",
       "    </tr>\n",
       "    <tr>\n",
       "      <th>251</th>\n",
       "      <td>Hoofdstraat 150</td>\n",
       "      <td>Pieterburen</td>\n",
       "    </tr>\n",
       "    <tr>\n",
       "      <th>252</th>\n",
       "      <td>Olde Diek 2</td>\n",
       "      <td>Laren</td>\n",
       "    </tr>\n",
       "    <tr>\n",
       "      <th>253</th>\n",
       "      <td>Amsterdamsestraatweg 8</td>\n",
       "      <td>Maarssen</td>\n",
       "    </tr>\n",
       "    <tr>\n",
       "      <th>254</th>\n",
       "      <td>Krayenhoffstraat 11</td>\n",
       "      <td>Amsterdam</td>\n",
       "    </tr>\n",
       "    <tr>\n",
       "      <th>255</th>\n",
       "      <td>Overschiestraat 19</td>\n",
       "      <td>Amsterdam</td>\n",
       "    </tr>\n",
       "    <tr>\n",
       "      <th>256</th>\n",
       "      <td>Havenbuurt 12</td>\n",
       "      <td>Marken</td>\n",
       "    </tr>\n",
       "    <tr>\n",
       "      <th>257</th>\n",
       "      <td>Duivendaal 1</td>\n",
       "      <td>Wageningen</td>\n",
       "    </tr>\n",
       "    <tr>\n",
       "      <th>258</th>\n",
       "      <td>Voorstraat 37</td>\n",
       "      <td>Nieuweschans</td>\n",
       "    </tr>\n",
       "    <tr>\n",
       "      <th>259</th>\n",
       "      <td>Stadhouderslaan 18</td>\n",
       "      <td>Rotterdam</td>\n",
       "    </tr>\n",
       "  </tbody>\n",
       "</table>\n",
       "</div>"
      ]
     },
     "execution_count": 19,
     "metadata": {},
     "output_type": "execute_result"
    }
   ],
   "execution_count": 19
  },
  {
   "cell_type": "markdown",
   "metadata": {},
   "source": [
    "Geef een overzicht met daarin de productnamen die tot het producttype ‘Eyewear’ behoren. (1 kolom, 5 rijen) "
   ]
  },
  {
   "cell_type": "code",
   "metadata": {
    "ExecuteTime": {
     "end_time": "2025-02-13T10:54:26.992217Z",
     "start_time": "2025-02-13T10:54:26.973907Z"
    }
   },
   "source": [
    "product_product_type = pd.merge(product, product_type, left_on=\"PRODUCT_TYPE_CODE\", how=\"inner\", right_on=\"PRODUCT_TYPE_CODE\")\n",
    "\n",
    "product_product_type.loc[product_product_type['PRODUCT_TYPE_EN'] == \"Eyewear\", [\"PRODUCT_NAME\"]]\n",
    "\n"
   ],
   "outputs": [
    {
     "data": {
      "text/plain": [
       "     PRODUCT_NAME\n",
       "67      Polar Sun\n",
       "68      Polar Ice\n",
       "69   Polar Sports\n",
       "70     Polar Wave\n",
       "71  Polar Extreme"
      ],
      "text/html": [
       "<div>\n",
       "<style scoped>\n",
       "    .dataframe tbody tr th:only-of-type {\n",
       "        vertical-align: middle;\n",
       "    }\n",
       "\n",
       "    .dataframe tbody tr th {\n",
       "        vertical-align: top;\n",
       "    }\n",
       "\n",
       "    .dataframe thead th {\n",
       "        text-align: right;\n",
       "    }\n",
       "</style>\n",
       "<table border=\"1\" class=\"dataframe\">\n",
       "  <thead>\n",
       "    <tr style=\"text-align: right;\">\n",
       "      <th></th>\n",
       "      <th>PRODUCT_NAME</th>\n",
       "    </tr>\n",
       "  </thead>\n",
       "  <tbody>\n",
       "    <tr>\n",
       "      <th>67</th>\n",
       "      <td>Polar Sun</td>\n",
       "    </tr>\n",
       "    <tr>\n",
       "      <th>68</th>\n",
       "      <td>Polar Ice</td>\n",
       "    </tr>\n",
       "    <tr>\n",
       "      <th>69</th>\n",
       "      <td>Polar Sports</td>\n",
       "    </tr>\n",
       "    <tr>\n",
       "      <th>70</th>\n",
       "      <td>Polar Wave</td>\n",
       "    </tr>\n",
       "    <tr>\n",
       "      <th>71</th>\n",
       "      <td>Polar Extreme</td>\n",
       "    </tr>\n",
       "  </tbody>\n",
       "</table>\n",
       "</div>"
      ]
     },
     "execution_count": 20,
     "metadata": {},
     "output_type": "execute_result"
    }
   ],
   "execution_count": 20
  },
  {
   "cell_type": "markdown",
   "metadata": {},
   "source": [
    "Geef een overzicht met daarin alle unieke eerste adressen van klantvestigingen en de voornaam en achternaam van de verkopers die ‘Branch Manager’ zijn en aan deze vestigingen hebben verkocht (3 kolommen, 1 rij) "
   ]
  },
  {
   "cell_type": "code",
   "metadata": {
    "ExecuteTime": {
     "end_time": "2025-02-13T10:54:27.592438Z",
     "start_time": "2025-02-13T10:54:27.567864Z"
    }
   },
   "source": [
    "retailer_site_order_header = pd.merge(retailer_site, order_header, left_on=\"RETAILER_SITE_CODE\", how=\"inner\", right_on=\"RETAILER_SITE_CODE\")\n",
    "\n",
    "retailer_site_order_header_sales_staff = pd.merge(retailer_site_order_header, sales_staff, left_on=\"SALES_STAFF_CODE\", how=\"inner\", right_on=\"SALES_STAFF_CODE\")\n",
    "\n",
    "retailer_site_order_header_sales_staff.loc[retailer_site_order_header_sales_staff['POSITION_EN'] == \"Branch Manager\", ['FIRST_NAME', 'LAST_NAME' , 'ADDRESS1'] ].drop_duplicates()"
   ],
   "outputs": [
    {
     "data": {
      "text/plain": [
       "     FIRST_NAME LAST_NAME              ADDRESS1\n",
       "3658     Bayard     Lopes  Alameda Santos, 9876"
      ],
      "text/html": [
       "<div>\n",
       "<style scoped>\n",
       "    .dataframe tbody tr th:only-of-type {\n",
       "        vertical-align: middle;\n",
       "    }\n",
       "\n",
       "    .dataframe tbody tr th {\n",
       "        vertical-align: top;\n",
       "    }\n",
       "\n",
       "    .dataframe thead th {\n",
       "        text-align: right;\n",
       "    }\n",
       "</style>\n",
       "<table border=\"1\" class=\"dataframe\">\n",
       "  <thead>\n",
       "    <tr style=\"text-align: right;\">\n",
       "      <th></th>\n",
       "      <th>FIRST_NAME</th>\n",
       "      <th>LAST_NAME</th>\n",
       "      <th>ADDRESS1</th>\n",
       "    </tr>\n",
       "  </thead>\n",
       "  <tbody>\n",
       "    <tr>\n",
       "      <th>3658</th>\n",
       "      <td>Bayard</td>\n",
       "      <td>Lopes</td>\n",
       "      <td>Alameda Santos, 9876</td>\n",
       "    </tr>\n",
       "  </tbody>\n",
       "</table>\n",
       "</div>"
      ]
     },
     "execution_count": 21,
     "metadata": {},
     "output_type": "execute_result"
    }
   ],
   "execution_count": 21
  },
  {
   "cell_type": "markdown",
   "metadata": {},
   "source": [
    "Geef een overzicht met daarin van de verkopers hun functie en indien zij iets hebben verkocht de datum waarop de verkoop heeft plaatsgevonden. Laat alleen de verschillende namen van de posities zien van de verkopers die het woord ‘Manager’ in hun positienaam hebben staan. (2 kolommen, 7 rijen) "
   ]
  },
  {
   "cell_type": "code",
   "metadata": {
    "ExecuteTime": {
     "end_time": "2025-02-13T10:54:27.989672Z",
     "start_time": "2025-02-13T10:54:27.969178Z"
    }
   },
   "source": [
    "retailer_site_order_header = pd.merge(order_header, sales_staff, left_on=\"SALES_STAFF_CODE\", how=\"right\", right_on=\"SALES_STAFF_CODE\")\n",
    "\n",
    "has_manager_in_name = (retailer_site_order_header[\"POSITION_EN\"].str.contains(\"Manager\"))\n",
    "\n",
    "retailer_site_order_header.loc[has_manager_in_name, ['POSITION_EN', 'ORDER_DATE'] ].drop_duplicates()"
   ],
   "outputs": [
    {
     "data": {
      "text/plain": [
       "           POSITION_EN  ORDER_DATE\n",
       "0       Branch Manager         NaN\n",
       "320   Regional Manager         NaN\n",
       "648   District Manager         NaN\n",
       "3748    Branch Manager  2024-09-09\n",
       "3749    Branch Manager  2024-03-13\n",
       "3750    Branch Manager  2024-01-09\n",
       "4186   General Manager         NaN"
      ],
      "text/html": [
       "<div>\n",
       "<style scoped>\n",
       "    .dataframe tbody tr th:only-of-type {\n",
       "        vertical-align: middle;\n",
       "    }\n",
       "\n",
       "    .dataframe tbody tr th {\n",
       "        vertical-align: top;\n",
       "    }\n",
       "\n",
       "    .dataframe thead th {\n",
       "        text-align: right;\n",
       "    }\n",
       "</style>\n",
       "<table border=\"1\" class=\"dataframe\">\n",
       "  <thead>\n",
       "    <tr style=\"text-align: right;\">\n",
       "      <th></th>\n",
       "      <th>POSITION_EN</th>\n",
       "      <th>ORDER_DATE</th>\n",
       "    </tr>\n",
       "  </thead>\n",
       "  <tbody>\n",
       "    <tr>\n",
       "      <th>0</th>\n",
       "      <td>Branch Manager</td>\n",
       "      <td>NaN</td>\n",
       "    </tr>\n",
       "    <tr>\n",
       "      <th>320</th>\n",
       "      <td>Regional Manager</td>\n",
       "      <td>NaN</td>\n",
       "    </tr>\n",
       "    <tr>\n",
       "      <th>648</th>\n",
       "      <td>District Manager</td>\n",
       "      <td>NaN</td>\n",
       "    </tr>\n",
       "    <tr>\n",
       "      <th>3748</th>\n",
       "      <td>Branch Manager</td>\n",
       "      <td>2024-09-09</td>\n",
       "    </tr>\n",
       "    <tr>\n",
       "      <th>3749</th>\n",
       "      <td>Branch Manager</td>\n",
       "      <td>2024-03-13</td>\n",
       "    </tr>\n",
       "    <tr>\n",
       "      <th>3750</th>\n",
       "      <td>Branch Manager</td>\n",
       "      <td>2024-01-09</td>\n",
       "    </tr>\n",
       "    <tr>\n",
       "      <th>4186</th>\n",
       "      <td>General Manager</td>\n",
       "      <td>NaN</td>\n",
       "    </tr>\n",
       "  </tbody>\n",
       "</table>\n",
       "</div>"
      ]
     },
     "execution_count": 22,
     "metadata": {},
     "output_type": "execute_result"
    }
   ],
   "execution_count": 22
  },
  {
   "cell_type": "markdown",
   "metadata": {},
   "source": [
    "Geef een overzicht met daarin de verschillende namen van producten en bijbehorende namen van producttypen van de producten waarvoor ooit meer dan 750 stuks tegelijk verkocht zijn. (2 kolommen, 9 rijen) "
   ]
  },
  {
   "cell_type": "code",
   "metadata": {
    "ExecuteTime": {
     "end_time": "2025-02-13T10:54:28.533112Z",
     "start_time": "2025-02-13T10:54:28.475305Z"
    }
   },
   "source": [
    "retailer_site_product_data = pd.merge(order_details, product, left_on=\"PRODUCT_NUMBER\", how=\"inner\", right_on=\"PRODUCT_NUMBER\")\n",
    "\n",
    "retailer_site_product_data = pd.merge(retailer_site_product_data, product_type, left_on=\"PRODUCT_TYPE_CODE\", how=\"inner\", right_on=\"PRODUCT_TYPE_CODE\")\n",
    "\n",
    "has_more_than_750 = retailer_site_product_data['QUANTITY'] > 750\n",
    "\n",
    "retailer_site_product_data = retailer_site_product_data.loc[has_more_than_750, ['PRODUCT_NAME', 'PRODUCT_TYPE_EN']].drop_duplicates();\n",
    "\n",
    "retailer_site_product_data"
   ],
   "outputs": [
    {
     "data": {
      "text/plain": [
       "                PRODUCT_NAME    PRODUCT_TYPE_EN\n",
       "539        BugShield Extreme  Insect Repellents\n",
       "1759                Star Peg              Tents\n",
       "20121  BugShield Lotion Lite  Insect Repellents\n",
       "20147         Sun Shelter 15          Sunscreen\n",
       "20152         Sun Shelter 30          Sunscreen\n",
       "31236        BugShield Spray  Insect Repellents\n",
       "37272              Firefly 2           Lanterns\n",
       "37348       BugShield Lotion  Insect Repellents\n",
       "37363             Sun Shield          Sunscreen"
      ],
      "text/html": [
       "<div>\n",
       "<style scoped>\n",
       "    .dataframe tbody tr th:only-of-type {\n",
       "        vertical-align: middle;\n",
       "    }\n",
       "\n",
       "    .dataframe tbody tr th {\n",
       "        vertical-align: top;\n",
       "    }\n",
       "\n",
       "    .dataframe thead th {\n",
       "        text-align: right;\n",
       "    }\n",
       "</style>\n",
       "<table border=\"1\" class=\"dataframe\">\n",
       "  <thead>\n",
       "    <tr style=\"text-align: right;\">\n",
       "      <th></th>\n",
       "      <th>PRODUCT_NAME</th>\n",
       "      <th>PRODUCT_TYPE_EN</th>\n",
       "    </tr>\n",
       "  </thead>\n",
       "  <tbody>\n",
       "    <tr>\n",
       "      <th>539</th>\n",
       "      <td>BugShield Extreme</td>\n",
       "      <td>Insect Repellents</td>\n",
       "    </tr>\n",
       "    <tr>\n",
       "      <th>1759</th>\n",
       "      <td>Star Peg</td>\n",
       "      <td>Tents</td>\n",
       "    </tr>\n",
       "    <tr>\n",
       "      <th>20121</th>\n",
       "      <td>BugShield Lotion Lite</td>\n",
       "      <td>Insect Repellents</td>\n",
       "    </tr>\n",
       "    <tr>\n",
       "      <th>20147</th>\n",
       "      <td>Sun Shelter 15</td>\n",
       "      <td>Sunscreen</td>\n",
       "    </tr>\n",
       "    <tr>\n",
       "      <th>20152</th>\n",
       "      <td>Sun Shelter 30</td>\n",
       "      <td>Sunscreen</td>\n",
       "    </tr>\n",
       "    <tr>\n",
       "      <th>31236</th>\n",
       "      <td>BugShield Spray</td>\n",
       "      <td>Insect Repellents</td>\n",
       "    </tr>\n",
       "    <tr>\n",
       "      <th>37272</th>\n",
       "      <td>Firefly 2</td>\n",
       "      <td>Lanterns</td>\n",
       "    </tr>\n",
       "    <tr>\n",
       "      <th>37348</th>\n",
       "      <td>BugShield Lotion</td>\n",
       "      <td>Insect Repellents</td>\n",
       "    </tr>\n",
       "    <tr>\n",
       "      <th>37363</th>\n",
       "      <td>Sun Shield</td>\n",
       "      <td>Sunscreen</td>\n",
       "    </tr>\n",
       "  </tbody>\n",
       "</table>\n",
       "</div>"
      ]
     },
     "execution_count": 23,
     "metadata": {},
     "output_type": "execute_result"
    }
   ],
   "execution_count": 23
  },
  {
   "cell_type": "markdown",
   "metadata": {},
   "source": [
    "Geef een overzicht met daarin de productnamen waarvan ooit meer dan 40% korting is verleend. De formule voor korting is: (unit_price - unit_sale_price) / unit_price (1 kolom, 8 rijen) "
   ]
  },
  {
   "cell_type": "code",
   "metadata": {
    "ExecuteTime": {
     "end_time": "2025-02-13T10:54:29.020002Z",
     "start_time": "2025-02-13T10:54:28.994695Z"
    }
   },
   "source": [
    "retailer_site_product_data = pd.merge(order_details, product, left_on=\"PRODUCT_NUMBER\", how=\"inner\", right_on=\"PRODUCT_NUMBER\")\n",
    "\n",
    "more_than_40_percent_discount = ((retailer_site_product_data['UNIT_PRICE'] - retailer_site_product_data['UNIT_SALE_PRICE']) / retailer_site_product_data['UNIT_PRICE']) > 0.4\n",
    "\n",
    "retailer_site_product_data = retailer_site_product_data.loc[more_than_40_percent_discount, ['PRODUCT_NAME']].drop_duplicates()\n",
    "\n",
    "retailer_site_product_data\n"
   ],
   "outputs": [
    {
     "data": {
      "text/plain": [
       "                      PRODUCT_NAME\n",
       "506              BugShield Natural\n",
       "511                BugShield Spray\n",
       "650   Hailstorm Titanium Woods Set\n",
       "2797         BugShield Lotion Lite\n",
       "2836                Sun Shelter 30\n",
       "3751             BugShield Extreme\n",
       "5074                Sun Shelter 15\n",
       "6930              BugShield Lotion"
      ],
      "text/html": [
       "<div>\n",
       "<style scoped>\n",
       "    .dataframe tbody tr th:only-of-type {\n",
       "        vertical-align: middle;\n",
       "    }\n",
       "\n",
       "    .dataframe tbody tr th {\n",
       "        vertical-align: top;\n",
       "    }\n",
       "\n",
       "    .dataframe thead th {\n",
       "        text-align: right;\n",
       "    }\n",
       "</style>\n",
       "<table border=\"1\" class=\"dataframe\">\n",
       "  <thead>\n",
       "    <tr style=\"text-align: right;\">\n",
       "      <th></th>\n",
       "      <th>PRODUCT_NAME</th>\n",
       "    </tr>\n",
       "  </thead>\n",
       "  <tbody>\n",
       "    <tr>\n",
       "      <th>506</th>\n",
       "      <td>BugShield Natural</td>\n",
       "    </tr>\n",
       "    <tr>\n",
       "      <th>511</th>\n",
       "      <td>BugShield Spray</td>\n",
       "    </tr>\n",
       "    <tr>\n",
       "      <th>650</th>\n",
       "      <td>Hailstorm Titanium Woods Set</td>\n",
       "    </tr>\n",
       "    <tr>\n",
       "      <th>2797</th>\n",
       "      <td>BugShield Lotion Lite</td>\n",
       "    </tr>\n",
       "    <tr>\n",
       "      <th>2836</th>\n",
       "      <td>Sun Shelter 30</td>\n",
       "    </tr>\n",
       "    <tr>\n",
       "      <th>3751</th>\n",
       "      <td>BugShield Extreme</td>\n",
       "    </tr>\n",
       "    <tr>\n",
       "      <th>5074</th>\n",
       "      <td>Sun Shelter 15</td>\n",
       "    </tr>\n",
       "    <tr>\n",
       "      <th>6930</th>\n",
       "      <td>BugShield Lotion</td>\n",
       "    </tr>\n",
       "  </tbody>\n",
       "</table>\n",
       "</div>"
      ]
     },
     "execution_count": 24,
     "metadata": {},
     "output_type": "execute_result"
    }
   ],
   "execution_count": 24
  },
  {
   "cell_type": "markdown",
   "metadata": {},
   "source": [
    "Geef een overzicht met daarin de retourreden van producten waarvan ooit meer dan 90% van de aangeschafte hoeveelheid is teruggebracht (return_quantity/quantity). (1 kolom, 3 rijen) "
   ]
  },
  {
   "cell_type": "code",
   "metadata": {
    "ExecuteTime": {
     "end_time": "2025-02-13T10:54:29.480173Z",
     "start_time": "2025-02-13T10:54:29.453234Z"
    }
   },
   "source": [
    "returned_items_full_data = (\n",
    "    returned_item\n",
    "    .merge(order_details, on=\"ORDER_DETAIL_CODE\")\n",
    "    .merge(return_reason, on=\"RETURN_REASON_CODE\")\n",
    ")\n",
    "\n",
    "return_percentage_filter = (returned_items_full_data['RETURN_QUANTITY'] / returned_items_full_data['QUANTITY']) > 0.9\n",
    "\n",
    "returned_items_filtered = (\n",
    "    returned_items_full_data\n",
    "    .loc[return_percentage_filter, ['RETURN_DESCRIPTION_EN']]\n",
    "    .drop_duplicates()\n",
    ")\n",
    "\n",
    "returned_items_filtered"
   ],
   "outputs": [
    {
     "data": {
      "text/plain": [
       "    RETURN_DESCRIPTION_EN\n",
       "0  Unsatisfactory product\n",
       "2   Wrong product shipped\n",
       "3   Wrong product ordered"
      ],
      "text/html": [
       "<div>\n",
       "<style scoped>\n",
       "    .dataframe tbody tr th:only-of-type {\n",
       "        vertical-align: middle;\n",
       "    }\n",
       "\n",
       "    .dataframe tbody tr th {\n",
       "        vertical-align: top;\n",
       "    }\n",
       "\n",
       "    .dataframe thead th {\n",
       "        text-align: right;\n",
       "    }\n",
       "</style>\n",
       "<table border=\"1\" class=\"dataframe\">\n",
       "  <thead>\n",
       "    <tr style=\"text-align: right;\">\n",
       "      <th></th>\n",
       "      <th>RETURN_DESCRIPTION_EN</th>\n",
       "    </tr>\n",
       "  </thead>\n",
       "  <tbody>\n",
       "    <tr>\n",
       "      <th>0</th>\n",
       "      <td>Unsatisfactory product</td>\n",
       "    </tr>\n",
       "    <tr>\n",
       "      <th>2</th>\n",
       "      <td>Wrong product shipped</td>\n",
       "    </tr>\n",
       "    <tr>\n",
       "      <th>3</th>\n",
       "      <td>Wrong product ordered</td>\n",
       "    </tr>\n",
       "  </tbody>\n",
       "</table>\n",
       "</div>"
      ]
     },
     "execution_count": 25,
     "metadata": {},
     "output_type": "execute_result"
    }
   ],
   "execution_count": 25
  },
  {
   "cell_type": "markdown",
   "metadata": {},
   "source": [
    "## Selecties op meerdere tabellen met functies"
   ]
  },
  {
   "cell_type": "markdown",
   "metadata": {},
   "source": [
    "Geef een overzicht met daarin per producttype het aantal producten die tot dat producttype behoren. (2 kolommen, 21 rijen) "
   ]
  },
  {
   "cell_type": "code",
   "metadata": {
    "ExecuteTime": {
     "end_time": "2025-02-13T10:54:29.839610Z",
     "start_time": "2025-02-13T10:54:29.815495Z"
    }
   },
   "source": [
    "producttypes = product_type.merge(product, on=\"PRODUCT_TYPE_CODE\")\n",
    "\n",
    "# Groeperen op 'PRODUCT_TYPE_CODE' en het aantal producten tellen, inclusief de naam\n",
    "aantal_producten_per_type = (\n",
    "    producttypes\n",
    "    .groupby([\"PRODUCT_TYPE_EN\"])\n",
    "    .size()\n",
    "    .reset_index(name=\"Aantal Producten\")  # Zorg ervoor dat de telling een kolom krijgt\n",
    ")\n",
    "\n",
    "aantal_producten_per_type\n",
    "\n"
   ],
   "outputs": [
    {
     "data": {
      "text/plain": [
       "         PRODUCT_TYPE_EN  Aantal Producten\n",
       "0             Binoculars                 4\n",
       "1   Climbing Accessories                 7\n",
       "2           Cooking Gear                10\n",
       "3                Eyewear                 5\n",
       "4              First Aid                 5\n",
       "5       Golf Accessories                 4\n",
       "6      Insect Repellents                 5\n",
       "7                  Irons                 4\n",
       "8                 Knives                 5\n",
       "9               Lanterns                12\n",
       "10            Navigation                 4\n",
       "11                 Packs                 6\n",
       "12               Putters                 3\n",
       "13                  Rope                 4\n",
       "14                Safety                 4\n",
       "15         Sleeping Bags                 7\n",
       "16             Sunscreen                 5\n",
       "17                 Tents                 6\n",
       "18                 Tools                 6\n",
       "19               Watches                 5\n",
       "20                 Woods                 4"
      ],
      "text/html": [
       "<div>\n",
       "<style scoped>\n",
       "    .dataframe tbody tr th:only-of-type {\n",
       "        vertical-align: middle;\n",
       "    }\n",
       "\n",
       "    .dataframe tbody tr th {\n",
       "        vertical-align: top;\n",
       "    }\n",
       "\n",
       "    .dataframe thead th {\n",
       "        text-align: right;\n",
       "    }\n",
       "</style>\n",
       "<table border=\"1\" class=\"dataframe\">\n",
       "  <thead>\n",
       "    <tr style=\"text-align: right;\">\n",
       "      <th></th>\n",
       "      <th>PRODUCT_TYPE_EN</th>\n",
       "      <th>Aantal Producten</th>\n",
       "    </tr>\n",
       "  </thead>\n",
       "  <tbody>\n",
       "    <tr>\n",
       "      <th>0</th>\n",
       "      <td>Binoculars</td>\n",
       "      <td>4</td>\n",
       "    </tr>\n",
       "    <tr>\n",
       "      <th>1</th>\n",
       "      <td>Climbing Accessories</td>\n",
       "      <td>7</td>\n",
       "    </tr>\n",
       "    <tr>\n",
       "      <th>2</th>\n",
       "      <td>Cooking Gear</td>\n",
       "      <td>10</td>\n",
       "    </tr>\n",
       "    <tr>\n",
       "      <th>3</th>\n",
       "      <td>Eyewear</td>\n",
       "      <td>5</td>\n",
       "    </tr>\n",
       "    <tr>\n",
       "      <th>4</th>\n",
       "      <td>First Aid</td>\n",
       "      <td>5</td>\n",
       "    </tr>\n",
       "    <tr>\n",
       "      <th>5</th>\n",
       "      <td>Golf Accessories</td>\n",
       "      <td>4</td>\n",
       "    </tr>\n",
       "    <tr>\n",
       "      <th>6</th>\n",
       "      <td>Insect Repellents</td>\n",
       "      <td>5</td>\n",
       "    </tr>\n",
       "    <tr>\n",
       "      <th>7</th>\n",
       "      <td>Irons</td>\n",
       "      <td>4</td>\n",
       "    </tr>\n",
       "    <tr>\n",
       "      <th>8</th>\n",
       "      <td>Knives</td>\n",
       "      <td>5</td>\n",
       "    </tr>\n",
       "    <tr>\n",
       "      <th>9</th>\n",
       "      <td>Lanterns</td>\n",
       "      <td>12</td>\n",
       "    </tr>\n",
       "    <tr>\n",
       "      <th>10</th>\n",
       "      <td>Navigation</td>\n",
       "      <td>4</td>\n",
       "    </tr>\n",
       "    <tr>\n",
       "      <th>11</th>\n",
       "      <td>Packs</td>\n",
       "      <td>6</td>\n",
       "    </tr>\n",
       "    <tr>\n",
       "      <th>12</th>\n",
       "      <td>Putters</td>\n",
       "      <td>3</td>\n",
       "    </tr>\n",
       "    <tr>\n",
       "      <th>13</th>\n",
       "      <td>Rope</td>\n",
       "      <td>4</td>\n",
       "    </tr>\n",
       "    <tr>\n",
       "      <th>14</th>\n",
       "      <td>Safety</td>\n",
       "      <td>4</td>\n",
       "    </tr>\n",
       "    <tr>\n",
       "      <th>15</th>\n",
       "      <td>Sleeping Bags</td>\n",
       "      <td>7</td>\n",
       "    </tr>\n",
       "    <tr>\n",
       "      <th>16</th>\n",
       "      <td>Sunscreen</td>\n",
       "      <td>5</td>\n",
       "    </tr>\n",
       "    <tr>\n",
       "      <th>17</th>\n",
       "      <td>Tents</td>\n",
       "      <td>6</td>\n",
       "    </tr>\n",
       "    <tr>\n",
       "      <th>18</th>\n",
       "      <td>Tools</td>\n",
       "      <td>6</td>\n",
       "    </tr>\n",
       "    <tr>\n",
       "      <th>19</th>\n",
       "      <td>Watches</td>\n",
       "      <td>5</td>\n",
       "    </tr>\n",
       "    <tr>\n",
       "      <th>20</th>\n",
       "      <td>Woods</td>\n",
       "      <td>4</td>\n",
       "    </tr>\n",
       "  </tbody>\n",
       "</table>\n",
       "</div>"
      ]
     },
     "execution_count": 26,
     "metadata": {},
     "output_type": "execute_result"
    }
   ],
   "execution_count": 26
  },
  {
   "cell_type": "markdown",
   "metadata": {},
   "source": [
    "Geef een overzicht met daarin per land het aantal vestigingen van klanten die zich in dat land bevinden. (2 kolommen, 21 rijen) "
   ]
  },
  {
   "cell_type": "code",
   "metadata": {
    "ExecuteTime": {
     "end_time": "2025-02-13T10:54:30.360235Z",
     "start_time": "2025-02-13T10:54:30.341447Z"
    }
   },
   "source": [
    "landen_vestigingen = country.merge(retailer_site, on=\"COUNTRY_CODE\")\n",
    "\n",
    "# Groeperen op 'PRODUCT_TYPE_CODE' en het aantal producten tellen, inclusief de naam\n",
    "aantal_vestigingen_per_land = (\n",
    "    landen_vestigingen\n",
    "    .groupby([\"COUNTRY\"])\n",
    "    .size()\n",
    "    .reset_index(name=\"Aantal vestigingen\")  # Zorg ervoor dat de telling een kolom krijgt\n",
    ")\n",
    "\n",
    "aantal_vestigingen_per_land"
   ],
   "outputs": [
    {
     "data": {
      "text/plain": [
       "           COUNTRY  Aantal vestigingen\n",
       "0        Australia                  10\n",
       "1          Austria                  10\n",
       "2          Belgium                  10\n",
       "3           Brazil                   1\n",
       "4           Canada                  31\n",
       "5            China                  10\n",
       "6          Denmark                   6\n",
       "7          Finland                   5\n",
       "8           France                  29\n",
       "9          Germany                  32\n",
       "10           Italy                  12\n",
       "11           Japan                  25\n",
       "12           Korea                  10\n",
       "13          Mexico                  10\n",
       "14     Netherlands                  20\n",
       "15           Spain                   9\n",
       "16          Sweden                  12\n",
       "17     Switzerland                  13\n",
       "18          Taiwan                  10\n",
       "19  United Kingdom                  25\n",
       "20   United States                 101"
      ],
      "text/html": [
       "<div>\n",
       "<style scoped>\n",
       "    .dataframe tbody tr th:only-of-type {\n",
       "        vertical-align: middle;\n",
       "    }\n",
       "\n",
       "    .dataframe tbody tr th {\n",
       "        vertical-align: top;\n",
       "    }\n",
       "\n",
       "    .dataframe thead th {\n",
       "        text-align: right;\n",
       "    }\n",
       "</style>\n",
       "<table border=\"1\" class=\"dataframe\">\n",
       "  <thead>\n",
       "    <tr style=\"text-align: right;\">\n",
       "      <th></th>\n",
       "      <th>COUNTRY</th>\n",
       "      <th>Aantal vestigingen</th>\n",
       "    </tr>\n",
       "  </thead>\n",
       "  <tbody>\n",
       "    <tr>\n",
       "      <th>0</th>\n",
       "      <td>Australia</td>\n",
       "      <td>10</td>\n",
       "    </tr>\n",
       "    <tr>\n",
       "      <th>1</th>\n",
       "      <td>Austria</td>\n",
       "      <td>10</td>\n",
       "    </tr>\n",
       "    <tr>\n",
       "      <th>2</th>\n",
       "      <td>Belgium</td>\n",
       "      <td>10</td>\n",
       "    </tr>\n",
       "    <tr>\n",
       "      <th>3</th>\n",
       "      <td>Brazil</td>\n",
       "      <td>1</td>\n",
       "    </tr>\n",
       "    <tr>\n",
       "      <th>4</th>\n",
       "      <td>Canada</td>\n",
       "      <td>31</td>\n",
       "    </tr>\n",
       "    <tr>\n",
       "      <th>5</th>\n",
       "      <td>China</td>\n",
       "      <td>10</td>\n",
       "    </tr>\n",
       "    <tr>\n",
       "      <th>6</th>\n",
       "      <td>Denmark</td>\n",
       "      <td>6</td>\n",
       "    </tr>\n",
       "    <tr>\n",
       "      <th>7</th>\n",
       "      <td>Finland</td>\n",
       "      <td>5</td>\n",
       "    </tr>\n",
       "    <tr>\n",
       "      <th>8</th>\n",
       "      <td>France</td>\n",
       "      <td>29</td>\n",
       "    </tr>\n",
       "    <tr>\n",
       "      <th>9</th>\n",
       "      <td>Germany</td>\n",
       "      <td>32</td>\n",
       "    </tr>\n",
       "    <tr>\n",
       "      <th>10</th>\n",
       "      <td>Italy</td>\n",
       "      <td>12</td>\n",
       "    </tr>\n",
       "    <tr>\n",
       "      <th>11</th>\n",
       "      <td>Japan</td>\n",
       "      <td>25</td>\n",
       "    </tr>\n",
       "    <tr>\n",
       "      <th>12</th>\n",
       "      <td>Korea</td>\n",
       "      <td>10</td>\n",
       "    </tr>\n",
       "    <tr>\n",
       "      <th>13</th>\n",
       "      <td>Mexico</td>\n",
       "      <td>10</td>\n",
       "    </tr>\n",
       "    <tr>\n",
       "      <th>14</th>\n",
       "      <td>Netherlands</td>\n",
       "      <td>20</td>\n",
       "    </tr>\n",
       "    <tr>\n",
       "      <th>15</th>\n",
       "      <td>Spain</td>\n",
       "      <td>9</td>\n",
       "    </tr>\n",
       "    <tr>\n",
       "      <th>16</th>\n",
       "      <td>Sweden</td>\n",
       "      <td>12</td>\n",
       "    </tr>\n",
       "    <tr>\n",
       "      <th>17</th>\n",
       "      <td>Switzerland</td>\n",
       "      <td>13</td>\n",
       "    </tr>\n",
       "    <tr>\n",
       "      <th>18</th>\n",
       "      <td>Taiwan</td>\n",
       "      <td>10</td>\n",
       "    </tr>\n",
       "    <tr>\n",
       "      <th>19</th>\n",
       "      <td>United Kingdom</td>\n",
       "      <td>25</td>\n",
       "    </tr>\n",
       "    <tr>\n",
       "      <th>20</th>\n",
       "      <td>United States</td>\n",
       "      <td>101</td>\n",
       "    </tr>\n",
       "  </tbody>\n",
       "</table>\n",
       "</div>"
      ]
     },
     "execution_count": 27,
     "metadata": {},
     "output_type": "execute_result"
    }
   ],
   "execution_count": 27
  },
  {
   "cell_type": "markdown",
   "metadata": {},
   "source": [
    "Geef een overzicht met daarin van de producten behorend tot het producttype ‘Cooking Gear’ per productnaam de totaal verkochte hoeveelheid en de gemiddelde verkoopprijs. Sorteer de uitkomst op totaal verkochte hoeveelheid. (4 kolommen, 10 rijen) "
   ]
  },
  {
   "cell_type": "code",
   "metadata": {
    "ExecuteTime": {
     "end_time": "2025-02-13T10:54:30.747571Z",
     "start_time": "2025-02-13T10:54:30.694722Z"
    }
   },
   "source": [
    "producttypes = product_type.merge(product, on=\"PRODUCT_TYPE_CODE\")\n",
    "producttypes_order_details = producttypes.merge(order_details, on=\"PRODUCT_NUMBER\")\n",
    "\n",
    "is_cooking_gear = producttypes_order_details['PRODUCT_TYPE_EN'] == \"Cooking Gear\"\n",
    "cooking_gear = producttypes_order_details.loc[is_cooking_gear, :]\n",
    "\n",
    "summary = cooking_gear.groupby('PRODUCT_NAME').agg(\n",
    "    Totaal_Verkocht=('QUANTITY', 'sum'),\n",
    "    Gemiddelde_Prijs=('UNIT_SALE_PRICE', 'mean')\n",
    ").reset_index()\n",
    "\n",
    "# Sorteer op totaal verkochte hoeveelheid (aflopend)\n",
    "summary_sorted = summary.sort_values(by='Totaal_Verkocht', ascending=False)\n",
    "\n",
    "summary_sorted\n"
   ],
   "outputs": [
    {
     "data": {
      "text/plain": [
       "                PRODUCT_NAME  Totaal_Verkocht  Gemiddelde_Prijs\n",
       "9        TrailChef Water Bag            36738          6.032506\n",
       "2              TrailChef Cup            27418          6.976490\n",
       "0          TrailChef Canteen            26544         11.979418\n",
       "6      TrailChef Kitchen Kit            22206         22.345975\n",
       "8         TrailChef Utensils            13776         17.294151\n",
       "4     TrailChef Double Flame            12476        132.672882\n",
       "1         TrailChef Cook Set            10878         51.687926\n",
       "5           TrailChef Kettle             8826         12.201235\n",
       "7     TrailChef Single Flame             8504         63.827622\n",
       "3  TrailChef Deluxe Cook Set             3110        121.217638"
      ],
      "text/html": [
       "<div>\n",
       "<style scoped>\n",
       "    .dataframe tbody tr th:only-of-type {\n",
       "        vertical-align: middle;\n",
       "    }\n",
       "\n",
       "    .dataframe tbody tr th {\n",
       "        vertical-align: top;\n",
       "    }\n",
       "\n",
       "    .dataframe thead th {\n",
       "        text-align: right;\n",
       "    }\n",
       "</style>\n",
       "<table border=\"1\" class=\"dataframe\">\n",
       "  <thead>\n",
       "    <tr style=\"text-align: right;\">\n",
       "      <th></th>\n",
       "      <th>PRODUCT_NAME</th>\n",
       "      <th>Totaal_Verkocht</th>\n",
       "      <th>Gemiddelde_Prijs</th>\n",
       "    </tr>\n",
       "  </thead>\n",
       "  <tbody>\n",
       "    <tr>\n",
       "      <th>9</th>\n",
       "      <td>TrailChef Water Bag</td>\n",
       "      <td>36738</td>\n",
       "      <td>6.032506</td>\n",
       "    </tr>\n",
       "    <tr>\n",
       "      <th>2</th>\n",
       "      <td>TrailChef Cup</td>\n",
       "      <td>27418</td>\n",
       "      <td>6.976490</td>\n",
       "    </tr>\n",
       "    <tr>\n",
       "      <th>0</th>\n",
       "      <td>TrailChef Canteen</td>\n",
       "      <td>26544</td>\n",
       "      <td>11.979418</td>\n",
       "    </tr>\n",
       "    <tr>\n",
       "      <th>6</th>\n",
       "      <td>TrailChef Kitchen Kit</td>\n",
       "      <td>22206</td>\n",
       "      <td>22.345975</td>\n",
       "    </tr>\n",
       "    <tr>\n",
       "      <th>8</th>\n",
       "      <td>TrailChef Utensils</td>\n",
       "      <td>13776</td>\n",
       "      <td>17.294151</td>\n",
       "    </tr>\n",
       "    <tr>\n",
       "      <th>4</th>\n",
       "      <td>TrailChef Double Flame</td>\n",
       "      <td>12476</td>\n",
       "      <td>132.672882</td>\n",
       "    </tr>\n",
       "    <tr>\n",
       "      <th>1</th>\n",
       "      <td>TrailChef Cook Set</td>\n",
       "      <td>10878</td>\n",
       "      <td>51.687926</td>\n",
       "    </tr>\n",
       "    <tr>\n",
       "      <th>5</th>\n",
       "      <td>TrailChef Kettle</td>\n",
       "      <td>8826</td>\n",
       "      <td>12.201235</td>\n",
       "    </tr>\n",
       "    <tr>\n",
       "      <th>7</th>\n",
       "      <td>TrailChef Single Flame</td>\n",
       "      <td>8504</td>\n",
       "      <td>63.827622</td>\n",
       "    </tr>\n",
       "    <tr>\n",
       "      <th>3</th>\n",
       "      <td>TrailChef Deluxe Cook Set</td>\n",
       "      <td>3110</td>\n",
       "      <td>121.217638</td>\n",
       "    </tr>\n",
       "  </tbody>\n",
       "</table>\n",
       "</div>"
      ]
     },
     "execution_count": 28,
     "metadata": {},
     "output_type": "execute_result"
    }
   ],
   "execution_count": 28
  },
  {
   "cell_type": "markdown",
   "metadata": {},
   "source": [
    "Geef een overzicht met daarin per land de naam van het land, de naam van de stad waar de verkoopafdeling is gevestigd (noem de kolomnaam in het overzicht ‘verkoper’) en het aantal steden waar zich klanten bevinden in dat land (noem de kolomnaam in het overzicht ‘klanten’) (3 kolommen, 29 rijen) "
   ]
  },
  {
   "cell_type": "code",
   "metadata": {
    "ExecuteTime": {
     "end_time": "2025-02-13T10:54:31.135808Z",
     "start_time": "2025-02-13T10:54:31.106250Z"
    }
   },
   "source": [
    "country_branch = country.merge(sales_branch, on=\"COUNTRY_CODE\").rename({'CITY': 'VERKOPER'}, axis=1)\n",
    "customer_count = country.merge(retailer_site, on=\"COUNTRY_CODE\")\n",
    "\n",
    "summary = customer_count.groupby('COUNTRY').agg(\n",
    "    aantal_klanten=('RETAILER_SITE_CODE', 'nunique')\n",
    ").reset_index()\n",
    "\n",
    "resultaat = country_branch[['COUNTRY', 'VERKOPER']].drop_duplicates()\n",
    "\n",
    "final_result = pd.merge(resultaat, summary, on='COUNTRY', how='left')\n",
    "\n",
    "final_result"
   ],
   "outputs": [
    {
     "data": {
      "text/plain": [
       "           COUNTRY          VERKOPER  aantal_klanten\n",
       "0           France             Paris              29\n",
       "1           France              Lyon              29\n",
       "2          Germany           Hamburg              32\n",
       "3          Germany           München              32\n",
       "4    United States            Boston             101\n",
       "5    United States           Seattle             101\n",
       "6    United States       Los Angeles             101\n",
       "7    United States             Miami             101\n",
       "8           Canada           Calgary              31\n",
       "9           Canada           Toronto              31\n",
       "10         Austria              Wien              10\n",
       "11           Italy            Milano              12\n",
       "12     Netherlands         Amsterdam              20\n",
       "13     Switzerland            Zürich              13\n",
       "14  United Kingdom            London              25\n",
       "15  United Kingdom        Birmingham              25\n",
       "16          Sweden             Kista              12\n",
       "17           Japan             Tokyo              25\n",
       "18           Japan        Osaka City              25\n",
       "19          Taiwan         San Chung              10\n",
       "20           Korea             Seoul              10\n",
       "21           China          Shanghai              10\n",
       "22       Australia         Melbourne              10\n",
       "23         Belgium          Heverlee              10\n",
       "24           Spain            Bilbao               9\n",
       "25          Mexico  Distrito Federal              10\n",
       "26          Brazil         São Paulo               1\n",
       "27         Finland            Kuopio               5"
      ],
      "text/html": [
       "<div>\n",
       "<style scoped>\n",
       "    .dataframe tbody tr th:only-of-type {\n",
       "        vertical-align: middle;\n",
       "    }\n",
       "\n",
       "    .dataframe tbody tr th {\n",
       "        vertical-align: top;\n",
       "    }\n",
       "\n",
       "    .dataframe thead th {\n",
       "        text-align: right;\n",
       "    }\n",
       "</style>\n",
       "<table border=\"1\" class=\"dataframe\">\n",
       "  <thead>\n",
       "    <tr style=\"text-align: right;\">\n",
       "      <th></th>\n",
       "      <th>COUNTRY</th>\n",
       "      <th>VERKOPER</th>\n",
       "      <th>aantal_klanten</th>\n",
       "    </tr>\n",
       "  </thead>\n",
       "  <tbody>\n",
       "    <tr>\n",
       "      <th>0</th>\n",
       "      <td>France</td>\n",
       "      <td>Paris</td>\n",
       "      <td>29</td>\n",
       "    </tr>\n",
       "    <tr>\n",
       "      <th>1</th>\n",
       "      <td>France</td>\n",
       "      <td>Lyon</td>\n",
       "      <td>29</td>\n",
       "    </tr>\n",
       "    <tr>\n",
       "      <th>2</th>\n",
       "      <td>Germany</td>\n",
       "      <td>Hamburg</td>\n",
       "      <td>32</td>\n",
       "    </tr>\n",
       "    <tr>\n",
       "      <th>3</th>\n",
       "      <td>Germany</td>\n",
       "      <td>München</td>\n",
       "      <td>32</td>\n",
       "    </tr>\n",
       "    <tr>\n",
       "      <th>4</th>\n",
       "      <td>United States</td>\n",
       "      <td>Boston</td>\n",
       "      <td>101</td>\n",
       "    </tr>\n",
       "    <tr>\n",
       "      <th>5</th>\n",
       "      <td>United States</td>\n",
       "      <td>Seattle</td>\n",
       "      <td>101</td>\n",
       "    </tr>\n",
       "    <tr>\n",
       "      <th>6</th>\n",
       "      <td>United States</td>\n",
       "      <td>Los Angeles</td>\n",
       "      <td>101</td>\n",
       "    </tr>\n",
       "    <tr>\n",
       "      <th>7</th>\n",
       "      <td>United States</td>\n",
       "      <td>Miami</td>\n",
       "      <td>101</td>\n",
       "    </tr>\n",
       "    <tr>\n",
       "      <th>8</th>\n",
       "      <td>Canada</td>\n",
       "      <td>Calgary</td>\n",
       "      <td>31</td>\n",
       "    </tr>\n",
       "    <tr>\n",
       "      <th>9</th>\n",
       "      <td>Canada</td>\n",
       "      <td>Toronto</td>\n",
       "      <td>31</td>\n",
       "    </tr>\n",
       "    <tr>\n",
       "      <th>10</th>\n",
       "      <td>Austria</td>\n",
       "      <td>Wien</td>\n",
       "      <td>10</td>\n",
       "    </tr>\n",
       "    <tr>\n",
       "      <th>11</th>\n",
       "      <td>Italy</td>\n",
       "      <td>Milano</td>\n",
       "      <td>12</td>\n",
       "    </tr>\n",
       "    <tr>\n",
       "      <th>12</th>\n",
       "      <td>Netherlands</td>\n",
       "      <td>Amsterdam</td>\n",
       "      <td>20</td>\n",
       "    </tr>\n",
       "    <tr>\n",
       "      <th>13</th>\n",
       "      <td>Switzerland</td>\n",
       "      <td>Zürich</td>\n",
       "      <td>13</td>\n",
       "    </tr>\n",
       "    <tr>\n",
       "      <th>14</th>\n",
       "      <td>United Kingdom</td>\n",
       "      <td>London</td>\n",
       "      <td>25</td>\n",
       "    </tr>\n",
       "    <tr>\n",
       "      <th>15</th>\n",
       "      <td>United Kingdom</td>\n",
       "      <td>Birmingham</td>\n",
       "      <td>25</td>\n",
       "    </tr>\n",
       "    <tr>\n",
       "      <th>16</th>\n",
       "      <td>Sweden</td>\n",
       "      <td>Kista</td>\n",
       "      <td>12</td>\n",
       "    </tr>\n",
       "    <tr>\n",
       "      <th>17</th>\n",
       "      <td>Japan</td>\n",
       "      <td>Tokyo</td>\n",
       "      <td>25</td>\n",
       "    </tr>\n",
       "    <tr>\n",
       "      <th>18</th>\n",
       "      <td>Japan</td>\n",
       "      <td>Osaka City</td>\n",
       "      <td>25</td>\n",
       "    </tr>\n",
       "    <tr>\n",
       "      <th>19</th>\n",
       "      <td>Taiwan</td>\n",
       "      <td>San Chung</td>\n",
       "      <td>10</td>\n",
       "    </tr>\n",
       "    <tr>\n",
       "      <th>20</th>\n",
       "      <td>Korea</td>\n",
       "      <td>Seoul</td>\n",
       "      <td>10</td>\n",
       "    </tr>\n",
       "    <tr>\n",
       "      <th>21</th>\n",
       "      <td>China</td>\n",
       "      <td>Shanghai</td>\n",
       "      <td>10</td>\n",
       "    </tr>\n",
       "    <tr>\n",
       "      <th>22</th>\n",
       "      <td>Australia</td>\n",
       "      <td>Melbourne</td>\n",
       "      <td>10</td>\n",
       "    </tr>\n",
       "    <tr>\n",
       "      <th>23</th>\n",
       "      <td>Belgium</td>\n",
       "      <td>Heverlee</td>\n",
       "      <td>10</td>\n",
       "    </tr>\n",
       "    <tr>\n",
       "      <th>24</th>\n",
       "      <td>Spain</td>\n",
       "      <td>Bilbao</td>\n",
       "      <td>9</td>\n",
       "    </tr>\n",
       "    <tr>\n",
       "      <th>25</th>\n",
       "      <td>Mexico</td>\n",
       "      <td>Distrito Federal</td>\n",
       "      <td>10</td>\n",
       "    </tr>\n",
       "    <tr>\n",
       "      <th>26</th>\n",
       "      <td>Brazil</td>\n",
       "      <td>São Paulo</td>\n",
       "      <td>1</td>\n",
       "    </tr>\n",
       "    <tr>\n",
       "      <th>27</th>\n",
       "      <td>Finland</td>\n",
       "      <td>Kuopio</td>\n",
       "      <td>5</td>\n",
       "    </tr>\n",
       "  </tbody>\n",
       "</table>\n",
       "</div>"
      ]
     },
     "execution_count": 29,
     "metadata": {},
     "output_type": "execute_result"
    }
   ],
   "execution_count": 29
  },
  {
   "cell_type": "markdown",
   "metadata": {},
   "source": [
    "## Pythonvertalingen van SUBSELECT en UNION met o.a. for-loops"
   ]
  },
  {
   "cell_type": "markdown",
   "metadata": {},
   "source": [
    "Geef een overzicht met daarin de voornaam en de achternaam van de medewerkers die nog nooit wat hebben verkocht (2 kolommen, 25 rijen) "
   ]
  },
  {
   "cell_type": "code",
   "metadata": {
    "ExecuteTime": {
     "end_time": "2025-02-13T10:54:31.481897Z",
     "start_time": "2025-02-13T10:54:31.465527Z"
    }
   },
   "source": [
    "sales_staff_no_sold = sales_staff.merge(order_header, on=\"SALES_STAFF_CODE\", how=\"left\")\n",
    "\n",
    "has_not_sold_anything = sales_staff_no_sold['ORDER_NUMBER'].isna()\n",
    "\n",
    "sales_staff_no_sold.loc[has_not_sold_anything, [\"FIRST_NAME\", \"LAST_NAME\"]]"
   ],
   "outputs": [
    {
     "data": {
      "text/plain": [
       "     FIRST_NAME      LAST_NAME\n",
       "0         Denis           Pagé\n",
       "320        Else         Mörike\n",
       "321       Frank          Fuchs\n",
       "647       Fritz         Hirsch\n",
       "648        Jörg          Kunze\n",
       "728       Maria      Iacobucci\n",
       "946        Kick        Kalkman\n",
       "1309      Karin      Bergström\n",
       "1395      Sally          White\n",
       "1421      Frank        Bretton\n",
       "1422    Georges  Saint-Germain\n",
       "1719       Alex      Rodriguez\n",
       "2088   Samantha          Floyd\n",
       "2392      Julie          Olsen\n",
       "2530      Corey         Wright\n",
       "2873    Estelle        Johnson\n",
       "2874       Greg        Belding\n",
       "2999      Julie        Béchard\n",
       "3157      Lucía          Reyna\n",
       "3401     Kazumi        Uragome\n",
       "3559      Alice         Walter\n",
       "4185     Walter         Taylor\n",
       "4186   Penelope        Tamrine\n",
       "4349      Polly         Linton\n",
       "4590      Gracy        Gellens"
      ],
      "text/html": [
       "<div>\n",
       "<style scoped>\n",
       "    .dataframe tbody tr th:only-of-type {\n",
       "        vertical-align: middle;\n",
       "    }\n",
       "\n",
       "    .dataframe tbody tr th {\n",
       "        vertical-align: top;\n",
       "    }\n",
       "\n",
       "    .dataframe thead th {\n",
       "        text-align: right;\n",
       "    }\n",
       "</style>\n",
       "<table border=\"1\" class=\"dataframe\">\n",
       "  <thead>\n",
       "    <tr style=\"text-align: right;\">\n",
       "      <th></th>\n",
       "      <th>FIRST_NAME</th>\n",
       "      <th>LAST_NAME</th>\n",
       "    </tr>\n",
       "  </thead>\n",
       "  <tbody>\n",
       "    <tr>\n",
       "      <th>0</th>\n",
       "      <td>Denis</td>\n",
       "      <td>Pagé</td>\n",
       "    </tr>\n",
       "    <tr>\n",
       "      <th>320</th>\n",
       "      <td>Else</td>\n",
       "      <td>Mörike</td>\n",
       "    </tr>\n",
       "    <tr>\n",
       "      <th>321</th>\n",
       "      <td>Frank</td>\n",
       "      <td>Fuchs</td>\n",
       "    </tr>\n",
       "    <tr>\n",
       "      <th>647</th>\n",
       "      <td>Fritz</td>\n",
       "      <td>Hirsch</td>\n",
       "    </tr>\n",
       "    <tr>\n",
       "      <th>648</th>\n",
       "      <td>Jörg</td>\n",
       "      <td>Kunze</td>\n",
       "    </tr>\n",
       "    <tr>\n",
       "      <th>728</th>\n",
       "      <td>Maria</td>\n",
       "      <td>Iacobucci</td>\n",
       "    </tr>\n",
       "    <tr>\n",
       "      <th>946</th>\n",
       "      <td>Kick</td>\n",
       "      <td>Kalkman</td>\n",
       "    </tr>\n",
       "    <tr>\n",
       "      <th>1309</th>\n",
       "      <td>Karin</td>\n",
       "      <td>Bergström</td>\n",
       "    </tr>\n",
       "    <tr>\n",
       "      <th>1395</th>\n",
       "      <td>Sally</td>\n",
       "      <td>White</td>\n",
       "    </tr>\n",
       "    <tr>\n",
       "      <th>1421</th>\n",
       "      <td>Frank</td>\n",
       "      <td>Bretton</td>\n",
       "    </tr>\n",
       "    <tr>\n",
       "      <th>1422</th>\n",
       "      <td>Georges</td>\n",
       "      <td>Saint-Germain</td>\n",
       "    </tr>\n",
       "    <tr>\n",
       "      <th>1719</th>\n",
       "      <td>Alex</td>\n",
       "      <td>Rodriguez</td>\n",
       "    </tr>\n",
       "    <tr>\n",
       "      <th>2088</th>\n",
       "      <td>Samantha</td>\n",
       "      <td>Floyd</td>\n",
       "    </tr>\n",
       "    <tr>\n",
       "      <th>2392</th>\n",
       "      <td>Julie</td>\n",
       "      <td>Olsen</td>\n",
       "    </tr>\n",
       "    <tr>\n",
       "      <th>2530</th>\n",
       "      <td>Corey</td>\n",
       "      <td>Wright</td>\n",
       "    </tr>\n",
       "    <tr>\n",
       "      <th>2873</th>\n",
       "      <td>Estelle</td>\n",
       "      <td>Johnson</td>\n",
       "    </tr>\n",
       "    <tr>\n",
       "      <th>2874</th>\n",
       "      <td>Greg</td>\n",
       "      <td>Belding</td>\n",
       "    </tr>\n",
       "    <tr>\n",
       "      <th>2999</th>\n",
       "      <td>Julie</td>\n",
       "      <td>Béchard</td>\n",
       "    </tr>\n",
       "    <tr>\n",
       "      <th>3157</th>\n",
       "      <td>Lucía</td>\n",
       "      <td>Reyna</td>\n",
       "    </tr>\n",
       "    <tr>\n",
       "      <th>3401</th>\n",
       "      <td>Kazumi</td>\n",
       "      <td>Uragome</td>\n",
       "    </tr>\n",
       "    <tr>\n",
       "      <th>3559</th>\n",
       "      <td>Alice</td>\n",
       "      <td>Walter</td>\n",
       "    </tr>\n",
       "    <tr>\n",
       "      <th>4185</th>\n",
       "      <td>Walter</td>\n",
       "      <td>Taylor</td>\n",
       "    </tr>\n",
       "    <tr>\n",
       "      <th>4186</th>\n",
       "      <td>Penelope</td>\n",
       "      <td>Tamrine</td>\n",
       "    </tr>\n",
       "    <tr>\n",
       "      <th>4349</th>\n",
       "      <td>Polly</td>\n",
       "      <td>Linton</td>\n",
       "    </tr>\n",
       "    <tr>\n",
       "      <th>4590</th>\n",
       "      <td>Gracy</td>\n",
       "      <td>Gellens</td>\n",
       "    </tr>\n",
       "  </tbody>\n",
       "</table>\n",
       "</div>"
      ]
     },
     "execution_count": 30,
     "metadata": {},
     "output_type": "execute_result"
    }
   ],
   "execution_count": 30
  },
  {
   "cell_type": "markdown",
   "metadata": {},
   "source": [
    "Geef een overzicht met daarin het aantal producten waarvan de marge lager is dan de gemiddelde marge van alle producten samen. Geef in het overzicht tevens aan wat de gemiddelde marge is van dit aantal producten waarvan de marge lager dan de gemiddelde marge van alle producten samen is. (1 kolom, 2 rijen) "
   ]
  },
  {
   "cell_type": "code",
   "metadata": {
    "ExecuteTime": {
     "end_time": "2025-02-13T11:01:52.137634Z",
     "start_time": "2025-02-13T11:01:52.124447Z"
    }
   },
   "source": [
    "gemiddelde_margin = product['MARGIN'].mean()\n",
    "lager_gemiddeld = product[product['MARGIN'] < gemiddelde_margin]\n",
    "aantal_lager_gemiddeld = lager_gemiddeld.shape[0]\n",
    "gemiddelde_margin_lager_gemiddeld = lager_gemiddeld['MARGIN'].mean()\n",
    "\n",
    "resultaat = pd.DataFrame({\n",
    "    'Waarde': [aantal_lager_gemiddeld, gemiddelde_margin_lager_gemiddeld]\n",
    "}, index=['Aantal producten', 'Gemiddelde marge'])\n",
    "\n",
    "resultaat"
   ],
   "outputs": [
    {
     "data": {
      "text/plain": [
       "                     Waarde\n",
       "Aantal producten  59.000000\n",
       "Gemiddelde marge   0.292203"
      ],
      "text/html": [
       "<div>\n",
       "<style scoped>\n",
       "    .dataframe tbody tr th:only-of-type {\n",
       "        vertical-align: middle;\n",
       "    }\n",
       "\n",
       "    .dataframe tbody tr th {\n",
       "        vertical-align: top;\n",
       "    }\n",
       "\n",
       "    .dataframe thead th {\n",
       "        text-align: right;\n",
       "    }\n",
       "</style>\n",
       "<table border=\"1\" class=\"dataframe\">\n",
       "  <thead>\n",
       "    <tr style=\"text-align: right;\">\n",
       "      <th></th>\n",
       "      <th>Waarde</th>\n",
       "    </tr>\n",
       "  </thead>\n",
       "  <tbody>\n",
       "    <tr>\n",
       "      <th>Aantal producten</th>\n",
       "      <td>59.000000</td>\n",
       "    </tr>\n",
       "    <tr>\n",
       "      <th>Gemiddelde marge</th>\n",
       "      <td>0.292203</td>\n",
       "    </tr>\n",
       "  </tbody>\n",
       "</table>\n",
       "</div>"
      ]
     },
     "execution_count": 41,
     "metadata": {},
     "output_type": "execute_result"
    }
   ],
   "execution_count": 41
  },
  {
   "cell_type": "markdown",
   "metadata": {},
   "source": [
    "Geef een overzicht met daarin de namen van de producten die voor meer dan 500 (verkoopprijs) zijn verkocht maar nooit zijn teruggebracht. (1 kolom, 13 rijen) "
   ]
  },
  {
   "cell_type": "code",
   "metadata": {
    "ExecuteTime": {
     "end_time": "2025-02-13T11:06:26.706538Z",
     "start_time": "2025-02-13T11:06:26.642063Z"
    }
   },
   "source": [
    "producten_verkopen = product.merge(order_details, on=\"PRODUCT_NUMBER\", how=\"inner\")\n",
    "producten_verkopen_terug = producten_verkopen.merge(returned_item, on=\"ORDER_DETAIL_CODE\", how=\"left\")\n",
    "\n",
    "is_niet_teruggegeven = (producten_verkopen_terug['RETURN_CODE'].isna()) & (producten_verkopen_terug['UNIT_SALE_PRICE'] > 500)\n",
    "\n",
    "producten_verkopen_terug.loc[is_niet_teruggegeven, [\"PRODUCT_NAME\"]].drop_duplicates()"
   ],
   "outputs": [
    {
     "data": {
      "text/plain": [
       "                            PRODUCT_NAME\n",
       "3959                           Star Dome\n",
       "4356                        Star Gazer 2\n",
       "4699                        Star Gazer 3\n",
       "5085                        Star Gazer 6\n",
       "15041                     Husky Rope 200\n",
       "33162              Hailstorm Steel Irons\n",
       "33536           Hailstorm Titanium Irons\n",
       "33900         Lady Hailstorm Steel Irons\n",
       "34174      Lady Hailstorm Titanium Irons\n",
       "34438       Hailstorm Titanium Woods Set\n",
       "34733          Hailstorm Steel Woods Set\n",
       "35118  Lady Hailstorm Titanium Woods Set\n",
       "35397     Lady Hailstorm Steel Woods Set"
      ],
      "text/html": [
       "<div>\n",
       "<style scoped>\n",
       "    .dataframe tbody tr th:only-of-type {\n",
       "        vertical-align: middle;\n",
       "    }\n",
       "\n",
       "    .dataframe tbody tr th {\n",
       "        vertical-align: top;\n",
       "    }\n",
       "\n",
       "    .dataframe thead th {\n",
       "        text-align: right;\n",
       "    }\n",
       "</style>\n",
       "<table border=\"1\" class=\"dataframe\">\n",
       "  <thead>\n",
       "    <tr style=\"text-align: right;\">\n",
       "      <th></th>\n",
       "      <th>PRODUCT_NAME</th>\n",
       "    </tr>\n",
       "  </thead>\n",
       "  <tbody>\n",
       "    <tr>\n",
       "      <th>3959</th>\n",
       "      <td>Star Dome</td>\n",
       "    </tr>\n",
       "    <tr>\n",
       "      <th>4356</th>\n",
       "      <td>Star Gazer 2</td>\n",
       "    </tr>\n",
       "    <tr>\n",
       "      <th>4699</th>\n",
       "      <td>Star Gazer 3</td>\n",
       "    </tr>\n",
       "    <tr>\n",
       "      <th>5085</th>\n",
       "      <td>Star Gazer 6</td>\n",
       "    </tr>\n",
       "    <tr>\n",
       "      <th>15041</th>\n",
       "      <td>Husky Rope 200</td>\n",
       "    </tr>\n",
       "    <tr>\n",
       "      <th>33162</th>\n",
       "      <td>Hailstorm Steel Irons</td>\n",
       "    </tr>\n",
       "    <tr>\n",
       "      <th>33536</th>\n",
       "      <td>Hailstorm Titanium Irons</td>\n",
       "    </tr>\n",
       "    <tr>\n",
       "      <th>33900</th>\n",
       "      <td>Lady Hailstorm Steel Irons</td>\n",
       "    </tr>\n",
       "    <tr>\n",
       "      <th>34174</th>\n",
       "      <td>Lady Hailstorm Titanium Irons</td>\n",
       "    </tr>\n",
       "    <tr>\n",
       "      <th>34438</th>\n",
       "      <td>Hailstorm Titanium Woods Set</td>\n",
       "    </tr>\n",
       "    <tr>\n",
       "      <th>34733</th>\n",
       "      <td>Hailstorm Steel Woods Set</td>\n",
       "    </tr>\n",
       "    <tr>\n",
       "      <th>35118</th>\n",
       "      <td>Lady Hailstorm Titanium Woods Set</td>\n",
       "    </tr>\n",
       "    <tr>\n",
       "      <th>35397</th>\n",
       "      <td>Lady Hailstorm Steel Woods Set</td>\n",
       "    </tr>\n",
       "  </tbody>\n",
       "</table>\n",
       "</div>"
      ]
     },
     "execution_count": 51,
     "metadata": {},
     "output_type": "execute_result"
    }
   ],
   "execution_count": 51
  },
  {
   "cell_type": "markdown",
   "metadata": {},
   "source": [
    "Geef een overzicht met daarin per (achternaam van) medewerker of hij/zij manager is of niet, door deze informatie toe te voegen als extra 'Ja/Nee'-kolom.<br>\n",
    "Hint: gebruik een for-loop waarin je o.a. bepaalt of het woord 'Manager' in de functie (position_en) staat. (2 kolommen, 102 rijen)."
   ]
  },
  {
   "cell_type": "code",
   "metadata": {
    "ExecuteTime": {
     "end_time": "2025-02-13T11:16:09.635618Z",
     "start_time": "2025-02-13T11:16:09.615657Z"
    }
   },
   "source": [
    "medewerkers_data = sales_staff.loc[:, [\"LAST_NAME\", \"POSITION_EN\"]]\n",
    "\n",
    "for index, medewerker in medewerkers_data.iterrows():\n",
    "    rol = medewerkers_data.at[index, 'POSITION_EN']\n",
    "    if \"Manager\" in rol:\n",
    "        medewerkers_data.at[index, 'IS-MANAGER'] = \"Ja\"\n",
    "    else:\n",
    "        medewerkers_data.at[index, 'IS-MANAGER'] = \"Nee\"\n",
    "\n",
    "medewerkers_data = medewerkers_data.drop(\"POSITION_EN\", axis=1)\n",
    "medewerkers_data"
   ],
   "outputs": [
    {
     "data": {
      "text/plain": [
       "     LAST_NAME IS-MANAGER\n",
       "0         Pagé         Ja\n",
       "1       Michel        Nee\n",
       "2     Clermont        Nee\n",
       "3       Jauvin        Nee\n",
       "4    Wiesinger        Nee\n",
       "..         ...        ...\n",
       "97    Laermans        Nee\n",
       "98     De Crée        Nee\n",
       "99     Lattrez        Nee\n",
       "100  Seefelder        Nee\n",
       "101     Grüner        Nee\n",
       "\n",
       "[102 rows x 2 columns]"
      ],
      "text/html": [
       "<div>\n",
       "<style scoped>\n",
       "    .dataframe tbody tr th:only-of-type {\n",
       "        vertical-align: middle;\n",
       "    }\n",
       "\n",
       "    .dataframe tbody tr th {\n",
       "        vertical-align: top;\n",
       "    }\n",
       "\n",
       "    .dataframe thead th {\n",
       "        text-align: right;\n",
       "    }\n",
       "</style>\n",
       "<table border=\"1\" class=\"dataframe\">\n",
       "  <thead>\n",
       "    <tr style=\"text-align: right;\">\n",
       "      <th></th>\n",
       "      <th>LAST_NAME</th>\n",
       "      <th>IS-MANAGER</th>\n",
       "    </tr>\n",
       "  </thead>\n",
       "  <tbody>\n",
       "    <tr>\n",
       "      <th>0</th>\n",
       "      <td>Pagé</td>\n",
       "      <td>Ja</td>\n",
       "    </tr>\n",
       "    <tr>\n",
       "      <th>1</th>\n",
       "      <td>Michel</td>\n",
       "      <td>Nee</td>\n",
       "    </tr>\n",
       "    <tr>\n",
       "      <th>2</th>\n",
       "      <td>Clermont</td>\n",
       "      <td>Nee</td>\n",
       "    </tr>\n",
       "    <tr>\n",
       "      <th>3</th>\n",
       "      <td>Jauvin</td>\n",
       "      <td>Nee</td>\n",
       "    </tr>\n",
       "    <tr>\n",
       "      <th>4</th>\n",
       "      <td>Wiesinger</td>\n",
       "      <td>Nee</td>\n",
       "    </tr>\n",
       "    <tr>\n",
       "      <th>...</th>\n",
       "      <td>...</td>\n",
       "      <td>...</td>\n",
       "    </tr>\n",
       "    <tr>\n",
       "      <th>97</th>\n",
       "      <td>Laermans</td>\n",
       "      <td>Nee</td>\n",
       "    </tr>\n",
       "    <tr>\n",
       "      <th>98</th>\n",
       "      <td>De Crée</td>\n",
       "      <td>Nee</td>\n",
       "    </tr>\n",
       "    <tr>\n",
       "      <th>99</th>\n",
       "      <td>Lattrez</td>\n",
       "      <td>Nee</td>\n",
       "    </tr>\n",
       "    <tr>\n",
       "      <th>100</th>\n",
       "      <td>Seefelder</td>\n",
       "      <td>Nee</td>\n",
       "    </tr>\n",
       "    <tr>\n",
       "      <th>101</th>\n",
       "      <td>Grüner</td>\n",
       "      <td>Nee</td>\n",
       "    </tr>\n",
       "  </tbody>\n",
       "</table>\n",
       "<p>102 rows × 2 columns</p>\n",
       "</div>"
      ]
     },
     "execution_count": 61,
     "metadata": {},
     "output_type": "execute_result"
    }
   ],
   "execution_count": 61
  },
  {
   "cell_type": "markdown",
   "metadata": {},
   "source": [
    "Met de onderstaande code laat je Python het huidige jaar uitrekenen."
   ]
  },
  {
   "cell_type": "code",
   "metadata": {
    "ExecuteTime": {
     "end_time": "2025-02-13T11:16:27.203158Z",
     "start_time": "2025-02-13T11:16:27.183851Z"
    }
   },
   "source": [
    "from datetime import date\n",
    "date.today().year"
   ],
   "outputs": [
    {
     "data": {
      "text/plain": [
       "2025"
      ]
     },
     "execution_count": 62,
     "metadata": {},
     "output_type": "execute_result"
    }
   ],
   "execution_count": 62
  },
  {
   "cell_type": "markdown",
   "metadata": {},
   "source": [
    "Met de onderstaande code selecteer je op een bepaald jaartal uit een datum."
   ]
  },
  {
   "cell_type": "code",
   "metadata": {
    "ExecuteTime": {
     "end_time": "2025-02-13T11:16:40.777273Z",
     "start_time": "2025-02-13T11:16:40.764524Z"
    }
   },
   "source": [
    "from datetime import datetime\n",
    "\n",
    "date_str = '16-8-2013'\n",
    "date_format = '%d-%m-%Y'\n",
    "date_obj = datetime.strptime(date_str, date_format)\n",
    "\n",
    "date_obj.year"
   ],
   "outputs": [
    {
     "data": {
      "text/plain": [
       "2013"
      ]
     },
     "execution_count": 63,
     "metadata": {},
     "output_type": "execute_result"
    }
   ],
   "execution_count": 63
  },
  {
   "cell_type": "markdown",
   "metadata": {},
   "source": [
    "Geef met behulp van bovenstaande hulpcode een overzicht met daarin op basis van het aantal jaar dat iemand in dienst is of een medewerker ‘kort in dienst’ (minder dan 25 jaar in dienst) of een ‘lang in dienst’ (groter gelijk dan 12 jaar in dienst) is. Geef daarbij per medewerker in een aparte kolom zowel ‘kort in dienst’ als ‘lang in dienst’ aan. Gebruik (wederom) een for-loop.<br>\n",
    "(2 kolommen, 102 rijen) "
   ]
  },
  {
   "cell_type": "code",
   "metadata": {
    "ExecuteTime": {
     "end_time": "2025-02-13T11:22:23.947994Z",
     "start_time": "2025-02-13T11:22:23.908776Z"
    }
   },
   "source": [
    "medewerkers_data = sales_staff.loc[:, [\"LAST_NAME\", \"DATE_HIRED\"]]\n",
    "\n",
    "huidig_jaar = date.today().year\n",
    "\n",
    "for index, medewerker in medewerkers_data.iterrows():\n",
    "    date_hired = medewerkers_data.at[index, 'DATE_HIRED']\n",
    "\n",
    "    date_str = date_hired\n",
    "    date_format = '%Y-%m-%d'\n",
    "    date_obj = datetime.strptime(date_str, date_format)\n",
    "\n",
    "    aantal_jaar_in_dienst = huidig_jaar - date_obj.year\n",
    "\n",
    "\n",
    "    if aantal_jaar_in_dienst < 25:\n",
    "        medewerkers_data.at[index, 'DIENSTVERBAND'] = \"Kort in dienst\"\n",
    "    else:\n",
    "        medewerkers_data.at[index, 'DIENSTVERBAND'] = \"Lang in dienst\"\n",
    "\n",
    "medewerkers_data = medewerkers_data.drop(\"DATE_HIRED\", axis=1)\n",
    "medewerkers_data"
   ],
   "outputs": [
    {
     "data": {
      "text/plain": [
       "     LAST_NAME   DIENSTVERBAND\n",
       "0         Pagé  Lang in dienst\n",
       "1       Michel  Lang in dienst\n",
       "2     Clermont  Lang in dienst\n",
       "3       Jauvin  Lang in dienst\n",
       "4    Wiesinger  Lang in dienst\n",
       "..         ...             ...\n",
       "97    Laermans  Lang in dienst\n",
       "98     De Crée  Lang in dienst\n",
       "99     Lattrez  Lang in dienst\n",
       "100  Seefelder  Lang in dienst\n",
       "101     Grüner  Lang in dienst\n",
       "\n",
       "[102 rows x 2 columns]"
      ],
      "text/html": [
       "<div>\n",
       "<style scoped>\n",
       "    .dataframe tbody tr th:only-of-type {\n",
       "        vertical-align: middle;\n",
       "    }\n",
       "\n",
       "    .dataframe tbody tr th {\n",
       "        vertical-align: top;\n",
       "    }\n",
       "\n",
       "    .dataframe thead th {\n",
       "        text-align: right;\n",
       "    }\n",
       "</style>\n",
       "<table border=\"1\" class=\"dataframe\">\n",
       "  <thead>\n",
       "    <tr style=\"text-align: right;\">\n",
       "      <th></th>\n",
       "      <th>LAST_NAME</th>\n",
       "      <th>DIENSTVERBAND</th>\n",
       "    </tr>\n",
       "  </thead>\n",
       "  <tbody>\n",
       "    <tr>\n",
       "      <th>0</th>\n",
       "      <td>Pagé</td>\n",
       "      <td>Lang in dienst</td>\n",
       "    </tr>\n",
       "    <tr>\n",
       "      <th>1</th>\n",
       "      <td>Michel</td>\n",
       "      <td>Lang in dienst</td>\n",
       "    </tr>\n",
       "    <tr>\n",
       "      <th>2</th>\n",
       "      <td>Clermont</td>\n",
       "      <td>Lang in dienst</td>\n",
       "    </tr>\n",
       "    <tr>\n",
       "      <th>3</th>\n",
       "      <td>Jauvin</td>\n",
       "      <td>Lang in dienst</td>\n",
       "    </tr>\n",
       "    <tr>\n",
       "      <th>4</th>\n",
       "      <td>Wiesinger</td>\n",
       "      <td>Lang in dienst</td>\n",
       "    </tr>\n",
       "    <tr>\n",
       "      <th>...</th>\n",
       "      <td>...</td>\n",
       "      <td>...</td>\n",
       "    </tr>\n",
       "    <tr>\n",
       "      <th>97</th>\n",
       "      <td>Laermans</td>\n",
       "      <td>Lang in dienst</td>\n",
       "    </tr>\n",
       "    <tr>\n",
       "      <th>98</th>\n",
       "      <td>De Crée</td>\n",
       "      <td>Lang in dienst</td>\n",
       "    </tr>\n",
       "    <tr>\n",
       "      <th>99</th>\n",
       "      <td>Lattrez</td>\n",
       "      <td>Lang in dienst</td>\n",
       "    </tr>\n",
       "    <tr>\n",
       "      <th>100</th>\n",
       "      <td>Seefelder</td>\n",
       "      <td>Lang in dienst</td>\n",
       "    </tr>\n",
       "    <tr>\n",
       "      <th>101</th>\n",
       "      <td>Grüner</td>\n",
       "      <td>Lang in dienst</td>\n",
       "    </tr>\n",
       "  </tbody>\n",
       "</table>\n",
       "<p>102 rows × 2 columns</p>\n",
       "</div>"
      ]
     },
     "execution_count": 70,
     "metadata": {},
     "output_type": "execute_result"
    }
   ],
   "execution_count": 70
  },
  {
   "cell_type": "markdown",
   "metadata": {},
   "source": [
    "## Van Jupyter Notebook naar Pythonproject"
   ]
  },
  {
   "cell_type": "markdown",
   "metadata": {},
   "source": [
    "1. Richt de map waarin jullie tot nu toe hebben gewerkt in volgens de mappenstructuur uit de slides.\n",
    "2. Maak van de ontstane mappenstructuur een Pythonproject dat uitvoerbaar is vanuit de terminal. Maak daarin een .py-bestand dat minstens 5 antwoorden uit dit notebook (in de vorm van een DataFrame) exporteert naar Excelbestanden. Alle notebooks mogen als notebook blijven bestaan.\n",
    "3. Zorg ervoor dat dit Pythonproject zijn eigen repo heeft op Github. Let op: je virtual environment moet <b><u>niet</u></b> meegaan naar Github.\n",
    "\n",
    "Je mag tijdens dit proces je uit stap 1 ontstane mappenstructuur aanpassen, zolang je bij het beoordelingsmoment kan verantwoorden wat de motivatie hierachter is. De slides verplichten je dus nergens toe."
   ]
  }
 ],
 "metadata": {
  "kernelspec": {
   "display_name": "python-in-deds-P4iSP_yI-py3.11",
   "language": "python",
   "name": "python3"
  },
  "language_info": {
   "codemirror_mode": {
    "name": "ipython",
    "version": 3
   },
   "file_extension": ".py",
   "mimetype": "text/x-python",
   "name": "python",
   "nbconvert_exporter": "python",
   "pygments_lexer": "ipython3",
   "version": "3.11.4"
  }
 },
 "nbformat": 4,
 "nbformat_minor": 2
}
